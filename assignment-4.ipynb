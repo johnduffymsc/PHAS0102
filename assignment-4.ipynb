{
 "cells": [
  {
   "cell_type": "markdown",
   "metadata": {},
   "source": [
    "# Techniques of High Performance Computing - Assignment 4\n",
    "\n",
    "**Name: John Duffy**\n",
    "\n",
    "**Student Number: 19154676**"
   ]
  },
  {
   "cell_type": "markdown",
   "metadata": {},
   "source": [
    "# In the Moment of Heat\n",
    "\n",
    "Reference: The SIAM 100-Digit Challenge: A Study in High-Accuracy Numerical Computing / Folkmar Bourneman ... \\[et al.\\].\n",
    "\n",
    "## Program Description\n",
    "\n",
    "## Program Structure\n",
    "\n",
    "## Correctness Testing\n",
    "\n",
    "## Performance Testing"
   ]
  },
  {
   "cell_type": "code",
   "execution_count": 76,
   "metadata": {},
   "outputs": [],
   "source": [
    "# Import libraries common to all implementations...\n",
    "\n",
    "import numpy as np\n",
    "import matplotlib.pyplot as plt"
   ]
  },
  {
   "cell_type": "markdown",
   "metadata": {},
   "source": [
    "## Gauss-Seidel Iteration - Numba Implementation\n",
    "\n",
    "The following code implements Gauss-Seidel iterations both upwards and downwards using Numba to improve performance. The functions below are written in as simple 'C' like code as possible to enable just-in-time compilation using the @njit decorator."
   ]
  },
  {
   "cell_type": "code",
   "execution_count": 77,
   "metadata": {},
   "outputs": [],
   "source": [
    "# Import numba njit...\n",
    "\n",
    "from numba import njit"
   ]
  },
  {
   "cell_type": "code",
   "execution_count": 78,
   "metadata": {},
   "outputs": [],
   "source": [
    "@njit\n",
    "def gauss_seidel_up_update_row(n, u, v, row):\n",
    "    \"\"\"\n",
    "    This function implements an upwards row iteration. Note the subtle accessing of u and v.\n",
    "    \"\"\"\n",
    "    for col in range(1, n - 1):\n",
    "        v[row, col] = (v[row + 1, col] + u[row - 1, col] + u[row, col + 1] + u[row, col - 1]) / 4.0\n",
    "\n",
    "@njit\n",
    "def gauss_seidel_down_update_row(n, u, v, row):\n",
    "    \"\"\"\n",
    "    This function implements a downwards row iteration. Note the subtle accessing of u and v.\n",
    "    \"\"\"\n",
    "    for col in range(1, n - 1):\n",
    "        v[row, col] = (u[row + 1, col] + v[row - 1, col] + u[row, col + 1] + u[row, col - 1]) / 4.0"
   ]
  },
  {
   "cell_type": "code",
   "execution_count": 79,
   "metadata": {},
   "outputs": [],
   "source": [
    "@njit\n",
    "def gauss_seidel_iteration(n, u, v, direction='up'):\n",
    "    \"\"\"\n",
    "    This function funtion implements an 'up' or 'down' Gauss-Seidel iteration of the input\n",
    "    vector u, returning the result in vector u. The direction is selection by the named \n",
    "    'direction' parameter and the appropriate function is selected based upon the value\n",
    "    of this parameter.\n",
    "    \"\"\"\n",
    "\n",
    "    if (direction == 'up'):\n",
    "        for row in range(n - 2, 0, -1):\n",
    "            gauss_seidel_up_update_row(n, u, v, row)\n",
    "            \n",
    "    if (direction == 'down'):\n",
    "        for row in range(1, n - 1):\n",
    "            gauss_seidel_down_update_row(n, u, v, row)\n",
    "\n",
    "    return v"
   ]
  },
  {
   "cell_type": "markdown",
   "metadata": {},
   "source": [
    "## Correctness Testing - By Hand Calculation"
   ]
  },
  {
   "cell_type": "code",
   "execution_count": 80,
   "metadata": {},
   "outputs": [
    {
     "name": "stdout",
     "output_type": "stream",
     "text": [
      "[[0. 0. 0. 0. 0.]\n",
      " [0. 0. 0. 0. 0.]\n",
      " [0. 0. 0. 0. 0.]\n",
      " [0. 0. 0. 0. 0.]\n",
      " [5. 5. 5. 5. 5.]]\n",
      "[[0.       0.       0.       0.       0.      ]\n",
      " [0.       0.078125 0.078125 0.078125 0.      ]\n",
      " [0.       0.3125   0.3125   0.3125   0.      ]\n",
      " [0.       1.25     1.25     1.25     0.      ]\n",
      " [5.       5.       5.       5.       5.      ]]\n"
     ]
    }
   ],
   "source": [
    "N = 5\n",
    "\n",
    "# Create a test input vector u setting the boundary conditions.\n",
    "\n",
    "u = np.zeros((N, N), dtype=np.float64)\n",
    "\n",
    "u[N - 1, :] = 5.0\n",
    "\n",
    "# Create the output vector v.\n",
    "\n",
    "v = np.copy(u)\n",
    "\n",
    "# Call the Gauss-Seidel iteration function.\n",
    "\n",
    "gauss_seidel_iteration(N, u, v,)\n",
    "\n",
    "print(u)\n",
    "print(v)"
   ]
  },
  {
   "cell_type": "markdown",
   "metadata": {},
   "source": [
    "## Correctness Testing - Visually"
   ]
  },
  {
   "cell_type": "code",
   "execution_count": 81,
   "metadata": {},
   "outputs": [],
   "source": [
    "# Declare plotting functions.\n",
    "\n",
    "def plot(v, title, iteration):\n",
    "    \"\"\"\n",
    "    This function...\n",
    "    \"\"\"\n",
    "    plt.figure(figsize=(10, 8))\n",
    "    plt.imshow(v, extent=[0, 2, 0, 2], origin='upper', cmap='Reds')\n",
    "    plt.colorbar()\n",
    "    plt.title(title)\n",
    "    plt.xlabel('Iteration: ' + str(iteration))\n",
    "    plt.show()\n"
   ]
  },
  {
   "cell_type": "code",
   "execution_count": 82,
   "metadata": {},
   "outputs": [
    {
     "data": {
      "text/plain": [
       "array([[0.      , 0.      , 0.      , 0.      , 0.      ],\n",
       "       [0.      , 0.078125, 0.078125, 0.078125, 0.      ],\n",
       "       [0.      , 0.3125  , 0.3125  , 0.3125  , 0.      ],\n",
       "       [0.      , 1.25    , 1.25    , 1.25    , 0.      ],\n",
       "       [5.      , 5.      , 5.      , 5.      , 5.      ]])"
      ]
     },
     "execution_count": 82,
     "metadata": {},
     "output_type": "execute_result"
    }
   ],
   "source": [
    "N = 5\n",
    "\n",
    "# Create a test input vector u setting the boundary conditions.\n",
    "\n",
    "u = np.zeros((N, N), dtype=np.float64)\n",
    "\n",
    "u[N - 1, :] = 5.0\n",
    "\n",
    "# Create the output vector v.\n",
    "\n",
    "v = np.copy(u)\n",
    "\n",
    "# Call the Gauss-Seidel iteration function.\n",
    "\n",
    "gauss_seidel_iteration(N, u, v)\n",
    "\n",
    "# Plot the results.\n",
    "\n",
    "#plot(v, 'Gauss-Seidel', 1)"
   ]
  },
  {
   "cell_type": "markdown",
   "metadata": {},
   "source": [
    "## Correctness Testing - Repeated Function Invocations"
   ]
  },
  {
   "cell_type": "code",
   "execution_count": 83,
   "metadata": {},
   "outputs": [],
   "source": [
    "# Repeated calls to gauss_seidel_iteration() with the result plotted.\n",
    "\n",
    "N = 32\n",
    "\n",
    "u = np.zeros((N, N), dtype=np.float64)\n",
    "\n",
    "u[N - 1, :] = 5.0\n",
    "\n",
    "v = np.copy(u)\n",
    "\n",
    "#plot(v, 'Gauss-Seidel', 0)\n",
    "#\n",
    "#for i in range(6):\n",
    "#    gauss_seidel_iteration(N, u, v)\n",
    "#    plot(v, 'Gauss-Seidel', i + 1)\n",
    "#    u = v"
   ]
  },
  {
   "cell_type": "markdown",
   "metadata": {},
   "source": [
    "## Determine T*"
   ]
  },
  {
   "cell_type": "code",
   "execution_count": 84,
   "metadata": {},
   "outputs": [],
   "source": [
    "#N = [33, 65, 129, 257, 513, 1025]\n",
    "\n",
    "#N = [513, 1025, 2049]\n",
    "\n",
    "N = np.array([33, 65, 129], dtype=np.int32)\n",
    "\n",
    "T = np.zeros((len(N)), dtype=np.int32)\n",
    "\n",
    "#for i, n in enumerate(N):\n",
    "#    \n",
    "#    u = np.zeros((n, n), dtype=np.float64)\n",
    "#\n",
    "#    u[n - 1, :] = 5.0\n",
    "#\n",
    "#    v = np.copy(u)\n",
    "#\n",
    "#    iteration = 0;\n",
    "#\n",
    "#    while v[(n - 1) // 2, (n - 1) // 2] < 1.0:\n",
    "#        gauss_seidel_iteration(n, u, v)\n",
    "#        iteration += 1\n",
    "#        u = v\n",
    "#\n",
    "#    plot(v, 'Gauss-Seidel ' + 'N = ' + str(n), iteration)\n",
    "#    \n",
    "#    T[i] = iteration\n",
    "\n",
    "\n",
    "#plt.figure(figsize=(12, 8))\n",
    "#plt.loglog(1.0 / N, T, '-o')\n",
    "#plt.xlabel('log(h)')\n",
    "#plt.ylabel('log(Iterations)')\n",
    "#plt.title('T*')\n",
    "#plt.grid()\n",
    "#plt.show()\n",
    "\n",
    "#np.polyfit(np.log(1.0 / N), np.log(T), 1)"
   ]
  },
  {
   "cell_type": "code",
   "execution_count": 85,
   "metadata": {},
   "outputs": [
    {
     "data": {
      "text/plain": [
       "array([11.        , 21.66666667, 43.        ])"
      ]
     },
     "execution_count": 85,
     "metadata": {},
     "output_type": "execute_result"
    }
   ],
   "source": [
    "N / 3"
   ]
  },
  {
   "cell_type": "code",
   "execution_count": null,
   "metadata": {},
   "outputs": [],
   "source": []
  },
  {
   "cell_type": "markdown",
   "metadata": {},
   "source": [
    "## Finite Differences"
   ]
  },
  {
   "cell_type": "code",
   "execution_count": 86,
   "metadata": {},
   "outputs": [],
   "source": [
    "# Import numba...\n",
    "\n",
    "from numba import njit, prange"
   ]
  },
  {
   "cell_type": "markdown",
   "metadata": {},
   "source": [
    "### A First Attempt\n",
    "\n",
    "For a first attempt let's try a first-order forward differences in time and second-order central differences in space discretisation of the problem."
   ]
  },
  {
   "cell_type": "code",
   "execution_count": 87,
   "metadata": {},
   "outputs": [],
   "source": [
    "@njit(parallel=True)\n",
    "def timestep(n, u, c):\n",
    "    '''\n",
    "    This function\n",
    "    '''\n",
    "    v = np.copy(u)\n",
    "    for row in range(1, n - 1):\n",
    "        for col in prange(1, n - 1):\n",
    "            v[row, col] = u[row, col] - c * (4 * u[row, col] - u[row - 1, col] - u[row + 1, col] - u[row, col - 1] - u[row, col + 1])\n",
    "    return v"
   ]
  },
  {
   "cell_type": "code",
   "execution_count": 88,
   "metadata": {},
   "outputs": [
    {
     "name": "stdout",
     "output_type": "stream",
     "text": [
      "Courant Number: 0.024999999999999994\n",
      "t:  0.4240000000000003\n"
     ]
    },
    {
     "data": {
      "image/png": "[encoded data removed]",
      "text/plain": [
       "<Figure size 576x576 with 1 Axes>"
      ]
     },
     "metadata": {
      "needs_background": "light"
     },
     "output_type": "display_data"
    }
   ],
   "source": [
    "N = 11\n",
    "M = 1001\n",
    "\n",
    "u = np.zeros((N, N), dtype=np.float64)\n",
    "u[0, :] = 5.0\n",
    "\n",
    "h = 2.0 / (N - 1)\n",
    "k = 1.0 / (M - 1)\n",
    "\n",
    "c = k / h**2\n",
    "\n",
    "print(\"Courant Number: {}\".format(c))\n",
    "\n",
    "t = 0.0\n",
    "\n",
    "while u[(N - 1) // 2, (N - 1) // 2] < 1.0:\n",
    "    u = timestep(N, u, c)\n",
    "    t = t + k\n",
    "    \n",
    "print(\"t: \", t)\n",
    "\n",
    "plt.figure(figsize=(8, 8))\n",
    "plt.imshow(u, origin='lower', extent=(-1, 1, -1, 1))\n",
    "plt.show()"
   ]
  },
  {
   "cell_type": "markdown",
   "metadata": {},
   "source": [
    "### Minimise Rounding Errors\n",
    "\n",
    "The code above...\n",
    "\n",
    "Addition and multiplication generally don't reduce precision.\n",
    "\n",
    "Subtraction and division generally do reduce precision.\n",
    "\n",
    "General principles for increased precision:\n",
    "\n",
    "1. Do as much as possible using integer operations\n",
    "2. Make numbers bigger (addition and multiplication) before making them smaller (subtraction and division).\n",
    "3. Do as few floating point operations as possible, and do them as late as possible.\n",
    "\n",
    "Let's refactor it...\n",
    "\n",
    "This may be slower..."
   ]
  },
  {
   "cell_type": "code",
   "execution_count": 89,
   "metadata": {},
   "outputs": [],
   "source": [
    "N = 11\n",
    "M = 1001"
   ]
  },
  {
   "cell_type": "code",
   "execution_count": 90,
   "metadata": {},
   "outputs": [],
   "source": [
    "@njit(parallel=True)\n",
    "def timestep(n, u):\n",
    "    '''\n",
    "    This function\n",
    "    '''\n",
    "    v = np.copy(u)\n",
    "    for row in range(1, n - 1):\n",
    "        for col in prange(1, n - 1):\n",
    "            v[row, col] = u[row, col] - ((N - 1) * (N - 1) * (4 * u[row, col] - u[row - 1, col] - u[row + 1, col] - u[row, col - 1] - u[row, col + 1])) / (4 * (M - 1))\n",
    "    return v"
   ]
  },
  {
   "cell_type": "code",
   "execution_count": 91,
   "metadata": {},
   "outputs": [
    {
     "name": "stdout",
     "output_type": "stream",
     "text": [
      "Courant Number: 0.025\n",
      "t:  0.424\n"
     ]
    },
    {
     "data": {
      "image/png": "[encoded data removed]",
      "text/plain": [
       "<Figure size 576x576 with 1 Axes>"
      ]
     },
     "metadata": {
      "needs_background": "light"
     },
     "output_type": "display_data"
    }
   ],
   "source": [
    "u = np.zeros((N, N), dtype=np.float64)\n",
    "u[0, :] = 5.0\n",
    "\n",
    "print(\"Courant Number: {}\".format(((N - 1) * (N - 1)) / (4 * (M - 1))))\n",
    "\n",
    "i = 0\n",
    "\n",
    "while u[(N - 1) // 2, (N - 1) // 2] < 1.0:\n",
    "    u = timestep(N, u)\n",
    "    i += 1\n",
    "      \n",
    "print(\"t: \", i / (M - 1))\n",
    "\n",
    "plt.figure(figsize=(8, 8))\n",
    "plt.imshow(u, origin='lower', extent=(-1, 1, -1, 1))\n",
    "plt.show()"
   ]
  },
  {
   "cell_type": "markdown",
   "metadata": {},
   "source": [
    " "
   ]
  },
  {
   "cell_type": "markdown",
   "metadata": {},
   "source": [
    "## OpenCL Finite Differences"
   ]
  },
  {
   "cell_type": "code",
   "execution_count": 155,
   "metadata": {},
   "outputs": [],
   "source": [
    "import pyopencl as cl"
   ]
  },
  {
   "cell_type": "code",
   "execution_count": 156,
   "metadata": {},
   "outputs": [],
   "source": [
    "# Define the OpenCL kernel string used in the class FiniteDifference. It is defined here outside\n",
    "# of the class for readability, and also so that it may be developed/debugged externally and\n",
    "# easily included here as part of a build system.\n",
    "\n",
    "kernel_string = \"\"\"\n",
    "\n",
    "__kernel void finite_differences(const int n, __global float *u, __global float *v)\n",
    "{\n",
    "    // Retrieve the row and column indexes from the global id's.\n",
    "    \n",
    "    int r = get_global_id(0);\n",
    "    int c = get_global_id(1);\n",
    "    \n",
    "    // Don't change the boundary conditions.\n",
    "    \n",
    "    if (r == 0 || r == n - 1 || c == 0 || c == n - 1) {\n",
    "        v[n * r + c] = u[n * r + c];\n",
    "        return;\n",
    "    } \n",
    "    \n",
    "    // Implement the averaging formula for the interior points.\n",
    "\n",
    "    v[n * r + c] = (u[n * (r + 1) + c] + u[n * (r - 1) + c] + u[n * r + (c + 1)] + u[n * r + (c - 1)]) / 4.0f;\n",
    "}\n",
    "\n",
    "\"\"\"\n",
    "\n",
    "\n",
    "# Define the class FiniteDifferences.\n",
    "\n",
    "class FiniteDifferences:\n",
    "    \"\"\"\n",
    "    This class...\n",
    "    \"\"\"\n",
    "    \n",
    "    def __init__(self, n):\n",
    "        \"\"\"\n",
    "        This constructor...\n",
    "        \"\"\"\n",
    "        \n",
    "        # Store the size n as an instance variable for access by class methods.\n",
    "        \n",
    "        self._n = n\n",
    "        \n",
    "        \n",
    "        # Create a GPU specific context and command queue.\n",
    "        \n",
    "        self._ctx = cl.Context(dev_type = cl.device_type.GPU)\n",
    "        \n",
    "        self._queue = cl.CommandQueue(self._ctx, properties=cl.command_queue_properties.PROFILING_ENABLE)\n",
    " \n",
    "\n",
    "        # Create input and output buffers, u and v. Both u and v are READ_WRITE. This is because\n",
    "        # although we always initially copy data into u, we may read the result from u or v.\n",
    " \n",
    "        self._u = cl.Buffer(self._ctx, cl.mem_flags.READ_WRITE, size=np.dtype(np.float32).itemsize * n * n)\n",
    "        self._v = cl.Buffer(self._ctx, cl.mem_flags.READ_WRITE, size=np.dtype(np.float32).itemsize * n * n)\n",
    "        \n",
    "\n",
    "        # Build the kernel.\n",
    "        \n",
    "        self._kernel = cl.Program(self._ctx, kernel_string).build().finite_differences\n",
    "\n",
    "\n",
    "    def copy_u_to_device(self, u):\n",
    "        \"\"\"\n",
    "        This method...        \n",
    "        \"\"\"\n",
    "        \n",
    "        # Use mapped input to efficiently copy the vector u to the device.        \n",
    "\n",
    "        mapped_input, _ = cl.enqueue_map_buffer(self._queue, self._u, cl.map_flags.WRITE, 0, self._n * self._n, np.float32)\n",
    "        \n",
    "        with mapped_input.base:\n",
    "            mapped_input[:] = u.astype(np.float32)\n",
    "\n",
    "\n",
    "\n",
    "    def iterate(self, u):\n",
    "        \"\"\"\n",
    "        This method...\n",
    "        \"\"\"\n",
    "\n",
    "        # Copy the input vector u to the device.\n",
    "        \n",
    "        cl.enqueue_copy(self._queue, self._u, u)\n",
    "\n",
    "        \n",
    "        # Run the kernel across all grid points in parallel using a global workspace n x n. \n",
    "            \n",
    "        self._kernel(self._queue, (self._n, self._n), None, np.int32(self._n), self._u, self._v)\n",
    "\n",
    "\n",
    "        # Create an output vector v and copy the output from the device.\n",
    "                     \n",
    "        v = np.zeros((self._n, self._n), dtype=np.float32)\n",
    "\n",
    "        cl.enqueue_copy(self._queue, v, self._v)\n",
    "                     \n",
    "\n",
    "        # Return v.\n",
    "            \n",
    "        return v"
   ]
  },
  {
   "cell_type": "code",
   "execution_count": 157,
   "metadata": {},
   "outputs": [
    {
     "name": "stdout",
     "output_type": "stream",
     "text": [
      "[[5. 5. 5. 5. 5.]\n",
      " [0. 0. 0. 0. 0.]\n",
      " [0. 0. 0. 0. 0.]\n",
      " [0. 0. 0. 0. 0.]\n",
      " [0. 0. 0. 0. 0.]]\n",
      "[[5.   5.   5.   5.   5.  ]\n",
      " [0.   1.25 1.25 1.25 0.  ]\n",
      " [0.   0.   0.   0.   0.  ]\n",
      " [0.   0.   0.   0.   0.  ]\n",
      " [0.   0.   0.   0.   0.  ]]\n"
     ]
    }
   ],
   "source": [
    "# Test the class FiniteDifferences...\n",
    "\n",
    "N = 5\n",
    "\n",
    "u = np.zeros((N, N), dtype=np.float32)\n",
    "u[0, :] = 5.0\n",
    "\n",
    "print(u)\n",
    "\n",
    "\n",
    "finite_differences = FiniteDifferences(N)\n",
    "\n",
    "v = finite_differences.iterate(u.flatten())\n",
    "\n",
    "print(v)"
   ]
  },
  {
   "cell_type": "code",
   "execution_count": null,
   "metadata": {},
   "outputs": [],
   "source": []
  }
 ],
 "metadata": {
  "kernelspec": {
   "display_name": "Python 3",
   "language": "python",
   "name": "python3"
  },
  "language_info": {
   "codemirror_mode": {
    "name": "ipython",
    "version": 3
   },
   "file_extension": ".py",
   "mimetype": "text/x-python",
   "name": "python",
   "nbconvert_exporter": "python",
   "pygments_lexer": "ipython3",
   "version": "3.7.5"
  }
 },
 "nbformat": 4,
 "nbformat_minor": 4
}
