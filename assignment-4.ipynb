{
 "cells": [
  {
   "cell_type": "markdown",
   "metadata": {},
   "source": [
    "# Techniques of High Performance Computing - Assignment 4\n",
    "\n",
    "**Name: John Duffy**\n",
    "\n",
    "**Student Number: 19154676**"
   ]
  },
  {
   "cell_type": "markdown",
   "metadata": {},
   "source": [
    "# In the Moment of Heat\n",
    "\n",
    "Reference: The SIAM 100-Digit Challenge: A Study in High-Accuracy Numerical Computing / Folkmar Bourneman ... \\[et al.\\].\n",
    "\n",
    "## Program Description\n",
    "\n",
    "## Program Structure\n",
    "\n",
    "## Correctness Testing\n",
    "\n",
    "## Performance Testing"
   ]
  },
  {
   "cell_type": "code",
   "execution_count": 58,
   "metadata": {},
   "outputs": [],
   "source": [
    "# Import libraries common to all implementations...\n",
    "\n",
    "import numpy as np\n",
    "import matplotlib.pyplot as plt"
   ]
  },
  {
   "cell_type": "markdown",
   "metadata": {},
   "source": [
    "## Gauss-Seidel Iteration - Numba Implementation\n",
    "\n",
    "The following code implements Gauss-Seidel iterations both upwards and downwards using Numba to improve performance. The functions below are written in as simple 'C' like code as possible to enable just-in-time compilation using the @njit decorator."
   ]
  },
  {
   "cell_type": "code",
   "execution_count": 59,
   "metadata": {},
   "outputs": [],
   "source": [
    "# Import numba njit...\n",
    "\n",
    "from numba import njit"
   ]
  },
  {
   "cell_type": "code",
   "execution_count": 60,
   "metadata": {},
   "outputs": [],
   "source": [
    "@njit\n",
    "def gauss_seidel_up_update_row(n, u, v, row):\n",
    "    \"\"\"\n",
    "    This function implements an upwards row iteration. Note the subtle accessing of u and v.\n",
    "    \"\"\"\n",
    "    for col in range(1, n - 1):\n",
    "        v[row, col] = (v[row + 1, col] + u[row - 1, col] + u[row, col + 1] + u[row, col - 1]) / 4.0\n",
    "\n",
    "@njit\n",
    "def gauss_seidel_down_update_row(n, u, v, row):\n",
    "    \"\"\"\n",
    "    This function implements a downwards row iteration. Note the subtle accessing of u and v.\n",
    "    \"\"\"\n",
    "    for col in range(1, n - 1):\n",
    "        v[row, col] = (u[row + 1, col] + v[row - 1, col] + u[row, col + 1] + u[row, col - 1]) / 4.0"
   ]
  },
  {
   "cell_type": "code",
   "execution_count": 61,
   "metadata": {},
   "outputs": [],
   "source": [
    "@njit\n",
    "def gauss_seidel_iteration(n, u, v, direction='up'):\n",
    "    \"\"\"\n",
    "    This function funtion implements an 'up' or 'down' Gauss-Seidel iteration of the input\n",
    "    vector u, returning the result in vector u. The direction is selection by the named \n",
    "    'direction' parameter and the appropriate function is selected based upon the value\n",
    "    of this parameter.\n",
    "    \"\"\"\n",
    "\n",
    "    if (direction == 'up'):\n",
    "        for row in range(n - 2, 0, -1):\n",
    "            gauss_seidel_up_update_row(n, u, v, row)\n",
    "            \n",
    "    if (direction == 'down'):\n",
    "        for row in range(1, n - 1):\n",
    "            gauss_seidel_down_update_row(n, u, v, row)\n",
    "\n",
    "    return v"
   ]
  },
  {
   "cell_type": "markdown",
   "metadata": {},
   "source": [
    "## Correctness Testing - By Hand Calculation"
   ]
  },
  {
   "cell_type": "code",
   "execution_count": 62,
   "metadata": {},
   "outputs": [
    {
     "name": "stdout",
     "output_type": "stream",
     "text": [
      "[[0. 0. 0. 0. 0.]\n",
      " [0. 0. 0. 0. 0.]\n",
      " [0. 0. 0. 0. 0.]\n",
      " [0. 0. 0. 0. 0.]\n",
      " [5. 5. 5. 5. 5.]]\n",
      "[[0.       0.       0.       0.       0.      ]\n",
      " [0.       0.078125 0.078125 0.078125 0.      ]\n",
      " [0.       0.3125   0.3125   0.3125   0.      ]\n",
      " [0.       1.25     1.25     1.25     0.      ]\n",
      " [5.       5.       5.       5.       5.      ]]\n"
     ]
    }
   ],
   "source": [
    "N = 5\n",
    "\n",
    "# Create a test input vector u setting the boundary conditions.\n",
    "\n",
    "u = np.zeros((N, N), dtype=np.float64)\n",
    "\n",
    "u[N - 1, :] = 5.0\n",
    "\n",
    "# Create the output vector v.\n",
    "\n",
    "v = np.copy(u)\n",
    "\n",
    "# Call the Gauss-Seidel iteration function.\n",
    "\n",
    "gauss_seidel_iteration(N, u, v,)\n",
    "\n",
    "print(u)\n",
    "print(v)"
   ]
  },
  {
   "cell_type": "markdown",
   "metadata": {},
   "source": [
    "## Correctness Testing - Visually"
   ]
  },
  {
   "cell_type": "code",
   "execution_count": 63,
   "metadata": {},
   "outputs": [],
   "source": [
    "# Declare plotting functions.\n",
    "\n",
    "def plot(v, title, iteration):\n",
    "    \"\"\"\n",
    "    This function...\n",
    "    \"\"\"\n",
    "    plt.figure(figsize=(10, 8))\n",
    "    plt.imshow(v, extent=[0, 2, 0, 2], origin='upper', cmap='Reds')\n",
    "    plt.colorbar()\n",
    "    plt.title(title)\n",
    "    plt.xlabel('Iteration: ' + str(iteration))\n",
    "    plt.show()\n"
   ]
  },
  {
   "cell_type": "code",
   "execution_count": 64,
   "metadata": {},
   "outputs": [
    {
     "data": {
      "text/plain": [
       "array([[0.      , 0.      , 0.      , 0.      , 0.      ],\n",
       "       [0.      , 0.078125, 0.078125, 0.078125, 0.      ],\n",
       "       [0.      , 0.3125  , 0.3125  , 0.3125  , 0.      ],\n",
       "       [0.      , 1.25    , 1.25    , 1.25    , 0.      ],\n",
       "       [5.      , 5.      , 5.      , 5.      , 5.      ]])"
      ]
     },
     "execution_count": 64,
     "metadata": {},
     "output_type": "execute_result"
    }
   ],
   "source": [
    "N = 5\n",
    "\n",
    "# Create a test input vector u setting the boundary conditions.\n",
    "\n",
    "u = np.zeros((N, N), dtype=np.float64)\n",
    "\n",
    "u[N - 1, :] = 5.0\n",
    "\n",
    "# Create the output vector v.\n",
    "\n",
    "v = np.copy(u)\n",
    "\n",
    "# Call the Gauss-Seidel iteration function.\n",
    "\n",
    "gauss_seidel_iteration(N, u, v)\n",
    "\n",
    "# Plot the results.\n",
    "\n",
    "#plot(v, 'Gauss-Seidel', 1)"
   ]
  },
  {
   "cell_type": "markdown",
   "metadata": {},
   "source": [
    "## Correctness Testing - Repeated Function Invocations"
   ]
  },
  {
   "cell_type": "code",
   "execution_count": 65,
   "metadata": {},
   "outputs": [],
   "source": [
    "# Repeated calls to gauss_seidel_iteration() with the result plotted.\n",
    "\n",
    "N = 32\n",
    "\n",
    "u = np.zeros((N, N), dtype=np.float64)\n",
    "\n",
    "u[N - 1, :] = 5.0\n",
    "\n",
    "v = np.copy(u)\n",
    "\n",
    "#plot(v, 'Gauss-Seidel', 0)\n",
    "#\n",
    "#for i in range(6):\n",
    "#    gauss_seidel_iteration(N, u, v)\n",
    "#    plot(v, 'Gauss-Seidel', i + 1)\n",
    "#    u = v"
   ]
  },
  {
   "cell_type": "markdown",
   "metadata": {},
   "source": [
    "## Determine T*"
   ]
  },
  {
   "cell_type": "code",
   "execution_count": 66,
   "metadata": {},
   "outputs": [],
   "source": [
    "#N = [33, 65, 129, 257, 513, 1025]\n",
    "\n",
    "#N = [513, 1025, 2049]\n",
    "\n",
    "N = np.array([33, 65, 129], dtype=np.int32)\n",
    "\n",
    "T = np.zeros((len(N)), dtype=np.int32)\n",
    "\n",
    "#for i, n in enumerate(N):\n",
    "#    \n",
    "#    u = np.zeros((n, n), dtype=np.float64)\n",
    "#\n",
    "#    u[n - 1, :] = 5.0\n",
    "#\n",
    "#    v = np.copy(u)\n",
    "#\n",
    "#    iteration = 0;\n",
    "#\n",
    "#    while v[(n - 1) // 2, (n - 1) // 2] < 1.0:\n",
    "#        gauss_seidel_iteration(n, u, v)\n",
    "#        iteration += 1\n",
    "#        u = v\n",
    "#\n",
    "#    plot(v, 'Gauss-Seidel ' + 'N = ' + str(n), iteration)\n",
    "#    \n",
    "#    T[i] = iteration\n",
    "\n",
    "\n",
    "#plt.figure(figsize=(12, 8))\n",
    "#plt.loglog(1.0 / N, T, '-o')\n",
    "#plt.xlabel('log(h)')\n",
    "#plt.ylabel('log(Iterations)')\n",
    "#plt.title('T*')\n",
    "#plt.grid()\n",
    "#plt.show()\n",
    "\n",
    "#np.polyfit(np.log(1.0 / N), np.log(T), 1)"
   ]
  },
  {
   "cell_type": "code",
   "execution_count": 67,
   "metadata": {},
   "outputs": [
    {
     "data": {
      "text/plain": [
       "array([11.        , 21.66666667, 43.        ])"
      ]
     },
     "execution_count": 67,
     "metadata": {},
     "output_type": "execute_result"
    }
   ],
   "source": [
    "N / 3"
   ]
  },
  {
   "cell_type": "code",
   "execution_count": null,
   "metadata": {},
   "outputs": [],
   "source": []
  },
  {
   "cell_type": "markdown",
   "metadata": {},
   "source": [
    "## Finite Differences"
   ]
  },
  {
   "cell_type": "code",
   "execution_count": 68,
   "metadata": {},
   "outputs": [],
   "source": [
    "# Import numba...\n",
    "\n",
    "from numba import njit, prange"
   ]
  },
  {
   "cell_type": "markdown",
   "metadata": {},
   "source": [
    "### A First Attempt\n",
    "\n",
    "For a first attempt let's try a first-order forward differences in time and second-order central differences in space discretisation of the problem."
   ]
  },
  {
   "cell_type": "code",
   "execution_count": 69,
   "metadata": {},
   "outputs": [],
   "source": [
    "@njit(parallel=True)\n",
    "def timestep(n, u, c):\n",
    "    '''\n",
    "    This function\n",
    "    '''\n",
    "    v = np.copy(u)\n",
    "    for row in range(1, n - 1):\n",
    "        for col in prange(1, n - 1):\n",
    "            v[row, col] = u[row, col] - c * (4 * u[row, col] - u[row - 1, col] - u[row + 1, col] - u[row, col - 1] - u[row, col + 1])\n",
    "    return v"
   ]
  },
  {
   "cell_type": "code",
   "execution_count": 70,
   "metadata": {},
   "outputs": [
    {
     "name": "stdout",
     "output_type": "stream",
     "text": [
      "Courant Number: 0.024999999999999994\n",
      "t:  0.4240000000000003\n"
     ]
    },
    {
     "data": {
      "image/png": "[encoded data removed]",
      "text/plain": [
       "<Figure size 576x432 with 2 Axes>"
      ]
     },
     "metadata": {
      "needs_background": "light"
     },
     "output_type": "display_data"
    }
   ],
   "source": [
    "#%%timeit\n",
    "\n",
    "N = 11\n",
    "M = 1001\n",
    "\n",
    "u = np.zeros((N, N), dtype=np.float64)\n",
    "u[0, :] = 5.0\n",
    "\n",
    "h = 2.0 / (N - 1)\n",
    "k = 1.0 / (M - 1)\n",
    "\n",
    "c = k / h**2\n",
    "\n",
    "print(\"Courant Number: {}\".format(c))\n",
    "\n",
    "t = 0.0\n",
    "\n",
    "while u[(N - 1) // 2, (N - 1) // 2] < 1.0:\n",
    "    u = timestep(N, u, c)\n",
    "    t = t + k\n",
    "    \n",
    "print(\"t: \", t)\n",
    "\n",
    "plt.figure(figsize=(8, 6))\n",
    "plt.imshow(u, origin='lower', extent=(-1, 1, -1, 1))\n",
    "plt.colorbar()\n",
    "plt.show()"
   ]
  },
  {
   "cell_type": "markdown",
   "metadata": {},
   "source": [
    "### Minimise Rounding Errors\n",
    "\n",
    "The code above...\n",
    "\n",
    "Addition and multiplication generally don't reduce precision.\n",
    "\n",
    "Subtraction and division generally do reduce precision.\n",
    "\n",
    "General principles for increased precision:\n",
    "\n",
    "1. Do as much as possible using integer operations\n",
    "2. Make numbers bigger (addition and multiplication) before making them smaller (subtraction and division).\n",
    "3. Do as few floating point operations as possible, and do them as late as possible.\n",
    "\n",
    "Let's refactor it...\n",
    "\n",
    "This may be slower..."
   ]
  },
  {
   "cell_type": "code",
   "execution_count": 71,
   "metadata": {},
   "outputs": [],
   "source": [
    "N = 11\n",
    "M = 1001"
   ]
  },
  {
   "cell_type": "code",
   "execution_count": 72,
   "metadata": {},
   "outputs": [],
   "source": [
    "@njit(parallel=True)\n",
    "def timestep(n, u):\n",
    "    '''\n",
    "    This function\n",
    "    '''\n",
    "    v = np.copy(u)\n",
    "    for row in range(1, n - 1):\n",
    "        for col in prange(1, n - 1):\n",
    "            v[row, col] = u[row, col] - ((N - 1) * (N - 1) * (4 * u[row, col] - u[row - 1, col] - u[row + 1, col] - u[row, col - 1] - u[row, col + 1])) / (4 * (M - 1))\n",
    "    return v"
   ]
  },
  {
   "cell_type": "code",
   "execution_count": 73,
   "metadata": {},
   "outputs": [
    {
     "name": "stdout",
     "output_type": "stream",
     "text": [
      "Courant Number: 0.025\n",
      "t:  0.424\n"
     ]
    },
    {
     "data": {
      "image/png": "[encoded data removed]",
      "text/plain": [
       "<Figure size 576x432 with 2 Axes>"
      ]
     },
     "metadata": {
      "needs_background": "light"
     },
     "output_type": "display_data"
    }
   ],
   "source": [
    "#%%timeit\n",
    "\n",
    "u = np.zeros((N, N), dtype=np.float64)\n",
    "u[0, :] = 5.0\n",
    "\n",
    "print(\"Courant Number: {}\".format(((N - 1) * (N - 1)) / (4 * (M - 1))))\n",
    "\n",
    "i = 0\n",
    "\n",
    "while u[(N - 1) // 2, (N - 1) // 2] < 1.0:\n",
    "    u = timestep(N, u)\n",
    "    i += 1\n",
    "      \n",
    "print(\"t: \", i / (M - 1))\n",
    "\n",
    "plt.figure(figsize=(8, 6))\n",
    "plt.imshow(u, origin='lower', extent=(-1, 1, -1, 1))\n",
    "plt.colorbar()\n",
    "plt.show()"
   ]
  },
  {
   "cell_type": "code",
   "execution_count": null,
   "metadata": {},
   "outputs": [],
   "source": []
  },
  {
   "cell_type": "code",
   "execution_count": null,
   "metadata": {},
   "outputs": [],
   "source": []
  },
  {
   "cell_type": "markdown",
   "metadata": {},
   "source": [
    "### Arbitary Length Arithmetic\n",
    "\n",
    "The...\n"
   ]
  },
  {
   "cell_type": "code",
   "execution_count": 409,
   "metadata": {},
   "outputs": [],
   "source": [
    "N = 1001\n",
    "M = 1000001"
   ]
  },
  {
   "cell_type": "code",
   "execution_count": 410,
   "metadata": {},
   "outputs": [],
   "source": [
    "@njit(parallel=True)\n",
    "def timestep(n, u):\n",
    "    '''\n",
    "    This function\n",
    "    '''\n",
    "    v = np.copy(u)\n",
    "    for row in range(1, n - 1):\n",
    "        for col in prange(1, n - 1):\n",
    "            v[row, col] = u[row, col] - ((N - 1) * (N - 1) * (4 * u[row, col] - u[row - 1, col] - u[row + 1, col] - u[row, col - 1] - u[row, col + 1])) / (4 * (M - 1))\n",
    "\n",
    "            #v[row, col] = (u[row - 1, col] + u[row + 1, col] + u[row, col - 1] + u[row, col + 1]) / 4\n",
    "\n",
    "    return v"
   ]
  },
  {
   "cell_type": "code",
   "execution_count": 411,
   "metadata": {},
   "outputs": [
    {
     "name": "stdout",
     "output_type": "stream",
     "text": [
      "Courant Number: 0.25\n"
     ]
    },
    {
     "ename": "KeyboardInterrupt",
     "evalue": "",
     "output_type": "error",
     "traceback": [
      "\u001b[0;31m---------------------------------------------------------------------------\u001b[0m",
      "\u001b[0;31mKeyboardInterrupt\u001b[0m                         Traceback (most recent call last)",
      "\u001b[0;32m<ipython-input-411-6f2725370a10>\u001b[0m in \u001b[0;36m<module>\u001b[0;34m\u001b[0m\n\u001b[1;32m      9\u001b[0m \u001b[0;34m\u001b[0m\u001b[0m\n\u001b[1;32m     10\u001b[0m \u001b[0;32mwhile\u001b[0m \u001b[0mu\u001b[0m\u001b[0;34m[\u001b[0m\u001b[0;34m(\u001b[0m\u001b[0mN\u001b[0m \u001b[0;34m-\u001b[0m \u001b[0;36m1\u001b[0m\u001b[0;34m)\u001b[0m \u001b[0;34m//\u001b[0m \u001b[0;36m2\u001b[0m\u001b[0;34m,\u001b[0m \u001b[0;34m(\u001b[0m\u001b[0mN\u001b[0m \u001b[0;34m-\u001b[0m \u001b[0;36m1\u001b[0m\u001b[0;34m)\u001b[0m \u001b[0;34m//\u001b[0m \u001b[0;36m2\u001b[0m\u001b[0;34m]\u001b[0m \u001b[0;34m<\u001b[0m \u001b[0;36m1_100_000_000\u001b[0m\u001b[0;34m:\u001b[0m\u001b[0;34m\u001b[0m\u001b[0;34m\u001b[0m\u001b[0m\n\u001b[0;32m---> 11\u001b[0;31m     \u001b[0mu\u001b[0m \u001b[0;34m=\u001b[0m \u001b[0mtimestep\u001b[0m\u001b[0;34m(\u001b[0m\u001b[0mN\u001b[0m\u001b[0;34m,\u001b[0m \u001b[0mu\u001b[0m\u001b[0;34m)\u001b[0m\u001b[0;34m\u001b[0m\u001b[0;34m\u001b[0m\u001b[0m\n\u001b[0m\u001b[1;32m     12\u001b[0m     \u001b[0mi\u001b[0m \u001b[0;34m+=\u001b[0m \u001b[0;36m1\u001b[0m\u001b[0;34m\u001b[0m\u001b[0;34m\u001b[0m\u001b[0m\n\u001b[1;32m     13\u001b[0m \u001b[0;34m\u001b[0m\u001b[0m\n",
      "\u001b[0;31mKeyboardInterrupt\u001b[0m: "
     ]
    }
   ],
   "source": [
    "#%%timeit\n",
    "\n",
    "u = np.full((N, N), 1_000_000_000, dtype=np.int32)\n",
    "u[0, :] = 1_500_000_000\n",
    " \n",
    "print(\"Courant Number: {}\".format(((N - 1) * (N - 1)) / (4 * (M - 1))))\n",
    "\n",
    "i = 0\n",
    "\n",
    "while u[(N - 1) // 2, (N - 1) // 2] < 1_100_000_000:\n",
    "    u = timestep(N, u)\n",
    "    i += 1\n",
    "\n",
    "#u = timestep(N, u)\n",
    "#u = timestep(N, u)\n",
    "#u = timestep(N, u)\n",
    "   \n",
    "print(\"t: \", i / (M - 1))\n",
    "\n",
    "print(u)\n",
    "\n",
    "plt.figure(figsize=(8, 6))\n",
    "plt.imshow(u, origin='lower', extent=(-1, 1, -1, 1))\n",
    "plt.colorbar()\n",
    "plt.show()"
   ]
  },
  {
   "cell_type": "markdown",
   "metadata": {},
   "source": [
    " "
   ]
  },
  {
   "cell_type": "code",
   "execution_count": null,
   "metadata": {},
   "outputs": [],
   "source": []
  },
  {
   "cell_type": "markdown",
   "metadata": {},
   "source": [
    "## OpenCL Finite Differences"
   ]
  },
  {
   "cell_type": "code",
   "execution_count": 77,
   "metadata": {},
   "outputs": [],
   "source": [
    "import pyopencl as cl"
   ]
  },
  {
   "cell_type": "code",
   "execution_count": 78,
   "metadata": {},
   "outputs": [],
   "source": [
    "# Define the OpenCL kernel string used in the class FiniteDifference. It is defined here outside\n",
    "# of the class for readability, and also so that it may be developed/debugged externally and\n",
    "# easily included here as part of a build system.\n",
    "\n",
    "kernel_string = \"\"\"\n",
    "\n",
    "__kernel void finite_differences(const int n, const int m, const int direction, __global float *u, __global float *v, __global float *temperature)\n",
    "{\n",
    "    // Retrieve the row and column indexes from the global id's.\n",
    "    \n",
    "    int r = get_global_id(0);\n",
    "    int c = get_global_id(1);\n",
    "    \n",
    "    // Don't change the boundary conditions.\n",
    "    \n",
    "    if (r == 0 || r == n - 1 || c == 0 || c == n - 1) {\n",
    "        v[n * r + c] = u[n * r + c];\n",
    "        return;\n",
    "    } \n",
    "    \n",
    "    // Implement the averaging formula for the interior points.\n",
    "    \n",
    "    if (direction == 1) {\n",
    "        //v[n * r + c] = (u[n * (r + 1) + c] + u[n * (r - 1) + c] + u[n * r + (c + 1)] + u[n * r + (c - 1)]) / 4.0f;\n",
    "\n",
    "        v[n * r + c] = \\\n",
    "            u[n * r + c] - \\\n",
    "            ((n - 1) * (n - 1) * (4 * u[n * r + c] - u[n * (r - 1) + c] - u[n * (r + 1) + c] - u[n * r + (c - 1)] - u[n * r + (c + 1)])) / (4 * (m - 1));\n",
    "\n",
    "        if (r == (n - 1) / 2 && c == (n - 1) / 2) {\n",
    "            temperature[0] = v[n * r + c];  // Centre of the plate. \n",
    "        }\n",
    "    }\n",
    "    else {\n",
    "        //u[n * r + c] = (v[n * (r + 1) + c] + v[n * (r - 1) + c] + v[n * r + (c + 1)] + v[n * r + (c - 1)]) / 4.0f;\n",
    "\n",
    "        u[n * r + c] = \\\n",
    "            v[n * r + c] - \\\n",
    "            ((n - 1) * (n - 1) * (4 * v[n * r + c] - v[n * (r - 1) + c] - v[n * (r + 1) + c] - v[n * r + (c - 1)] - v[n * r + (c + 1)])) / (4 * (m - 1));\n",
    "\n",
    "        if (r == (n - 1) / 2 && c == (n - 1) / 2) {\n",
    "            temperature[0] = u[n * r + c];  // Centre of the plate.\n",
    "        }    \n",
    "    }\n",
    "}\n",
    "\n",
    "\"\"\"\n",
    "\n",
    "\n",
    "# Define the class FiniteDifferences.\n",
    "\n",
    "class FiniteDifferences:\n",
    "    \"\"\"\n",
    "    This class...\n",
    "    \"\"\"\n",
    "    \n",
    "    def __init__(self, n, m):\n",
    "        \"\"\"\n",
    "        This constructor...\n",
    "        \"\"\"\n",
    "        \n",
    "        # Store the n and m as instance variables for access by class methods.\n",
    "        \n",
    "        self._n = n\n",
    "        self._m = m\n",
    "        \n",
    "        \n",
    "        # Create a GPU specific context and command queue.\n",
    "        \n",
    "        self._ctx = cl.Context(dev_type = cl.device_type.GPU)\n",
    "        \n",
    "        self._queue = cl.CommandQueue(self._ctx, properties=cl.command_queue_properties.PROFILING_ENABLE)\n",
    " \n",
    "\n",
    "        # Create input and output buffers, u and v. Both u and v are READ_WRITE. This is because\n",
    "        # although we always initially copy data into u, we may read the result from u or v.\n",
    " \n",
    "        self._u = cl.Buffer(self._ctx, cl.mem_flags.READ_WRITE, size=np.dtype(np.float32).itemsize * n * n)\n",
    "        self._v = cl.Buffer(self._ctx, cl.mem_flags.READ_WRITE, size=np.dtype(np.float32).itemsize * n * n)\n",
    "        \n",
    "        \n",
    "        # Create a buffer to hold the current temperature of the centre of the plate.\n",
    "        \n",
    "        self._temperature = cl.Buffer(self._ctx, cl.mem_flags.READ_WRITE, size=np.dtype(np.float32).itemsize)\n",
    "\n",
    "\n",
    "        # Build the kernel.\n",
    "        \n",
    "        self._kernel = cl.Program(self._ctx, kernel_string).build().finite_differences\n",
    "\n",
    "\n",
    "    def copy_u_to_device(self, u):\n",
    "        \"\"\"\n",
    "        This method...        \n",
    "        \"\"\"\n",
    "        cl.enqueue_copy(self._queue, self._u, u)\n",
    "\n",
    "\n",
    "    def copy_u_from_device(self):\n",
    "        \"\"\"\n",
    "        This method...        \n",
    "        \"\"\"\n",
    "        u = np.zeros((self._n, self._n), dtype=np.float32)\n",
    "\n",
    "        cl.enqueue_copy(self._queue, u, self._u)            \n",
    "\n",
    "        return u\n",
    "\n",
    "\n",
    "    def copy_v_from_device(self):\n",
    "        \"\"\"\n",
    "        This method...        \n",
    "        \"\"\"\n",
    "        v = np.zeros((self._n, self._n), dtype=np.float32)\n",
    "\n",
    "        cl.enqueue_copy(self._queue, v, self._v)            \n",
    "\n",
    "        return v\n",
    "\n",
    "\n",
    "    def copy_temperature_from_device(self):\n",
    "        \"\"\"\n",
    "        This method...        \n",
    "        \"\"\"\n",
    "        temperature = np.zeros((1), dtype=np.float32)\n",
    "\n",
    "        cl.enqueue_copy(self._queue, temperature, self._temperature)            \n",
    "\n",
    "        return temperature[0]\n",
    "\n",
    "           \n",
    "    def iterate(self, direction=1):\n",
    "        \"\"\"\n",
    "        This method...\n",
    "        \"\"\"     \n",
    "        self._kernel(self._queue, (self._n, self._n), None, np.int32(self._n), np.int32(self._m), np.int32(direction), self._u, self._v, self._temperature)"
   ]
  },
  {
   "cell_type": "code",
   "execution_count": 80,
   "metadata": {},
   "outputs": [
    {
     "name": "stdout",
     "output_type": "stream",
     "text": [
      "Courant Number: 0.025\n",
      "t:  0.424\n"
     ]
    },
    {
     "data": {
      "image/png": "[encoded data removed]",
      "text/plain": [
       "<Figure size 576x432 with 2 Axes>"
      ]
     },
     "metadata": {
      "needs_background": "light"
     },
     "output_type": "display_data"
    }
   ],
   "source": [
    "#%%timeit\n",
    "\n",
    "N = 11\n",
    "M = 1001\n",
    "\n",
    "u = np.zeros((N, N), dtype=np.float32)\n",
    "u[0, :] = 5.0\n",
    "\n",
    "print(\"Courant Number: {}\".format(((N - 1) * (N - 1)) / (4 * (M - 1))))\n",
    "\n",
    "\n",
    "finite_differences = FiniteDifferences(N, M)\n",
    "\n",
    "finite_differences.copy_u_to_device(u)\n",
    "\n",
    "i = 0\n",
    "direction = 1\n",
    "\n",
    "while True:\n",
    "    finite_differences.iterate(direction)\n",
    "    i += 1\n",
    "    temperature = finite_differences.copy_temperature_from_device()\n",
    "    if not temperature < 1.0:\n",
    "        if direction == 1:\n",
    "            u = finite_differences.copy_v_from_device()\n",
    "        else:\n",
    "            u = finite_differences.copy_u_from_device()            \n",
    "        break\n",
    "    direction *= -1\n",
    "\n",
    "print(\"t: \", i / (M - 1))\n",
    "\n",
    "plt.figure(figsize=(8, 6))\n",
    "plt.imshow(u, origin='lower', extent=(-1, 1, -1, 1))\n",
    "plt.colorbar()\n",
    "plt.show()"
   ]
  },
  {
   "cell_type": "code",
   "execution_count": null,
   "metadata": {},
   "outputs": [],
   "source": []
  },
  {
   "cell_type": "code",
   "execution_count": null,
   "metadata": {},
   "outputs": [],
   "source": []
  },
  {
   "cell_type": "markdown",
   "metadata": {},
   "source": [
    "## OpenCL Finite Differences - Integer 32"
   ]
  },
  {
   "cell_type": "code",
   "execution_count": 433,
   "metadata": {},
   "outputs": [],
   "source": [
    "import pyopencl as cl"
   ]
  },
  {
   "cell_type": "code",
   "execution_count": 440,
   "metadata": {},
   "outputs": [],
   "source": [
    "# Define the OpenCL kernel string used in the class FiniteDifference. It is defined here outside\n",
    "# of the class for readability, and also so that it may be developed/debugged externally and\n",
    "# easily included here as part of a build system.\n",
    "\n",
    "kernel_string = \"\"\"\n",
    "\n",
    "__kernel void finite_differences(const int n, const int m, const int direction, __global long *u, __global long *v, __global long *temperature)\n",
    "{\n",
    "    // Retrieve the row and column indexes from the global id's.\n",
    "    \n",
    "    int r = get_global_id(0);\n",
    "    int c = get_global_id(1);\n",
    "    \n",
    "    // Don't change the boundary conditions.\n",
    "    \n",
    "    if (r == 0 || r == n - 1 || c == 0 || c == n - 1) {\n",
    "        v[n * r + c] = u[n * r + c];\n",
    "        return;\n",
    "    } \n",
    "    \n",
    "    // Implement the averaging formula for the interior points.\n",
    "    \n",
    "    if (direction == 1) {\n",
    "        //v[n * r + c] = (u[n * (r + 1) + c] + u[n * (r - 1) + c] + u[n * r + (c + 1)] + u[n * r + (c - 1)]) / 4.0f;\n",
    "\n",
    "        v[n * r + c] = \\\n",
    "            u[n * r + c] - \\\n",
    "            ((n - 1) * (n - 1) * (4 * u[n * r + c] - u[n * (r - 1) + c] - u[n * (r + 1) + c] - u[n * r + (c - 1)] - u[n * r + (c + 1)])) / (4 * (m - 1));\n",
    "\n",
    "        if (r == (n - 1) / 2 && c == (n - 1) / 2) {\n",
    "            temperature[0] = v[n * r + c];  // Centre of the plate. \n",
    "        }\n",
    "    }\n",
    "    else {\n",
    "        //u[n * r + c] = (v[n * (r + 1) + c] + v[n * (r - 1) + c] + v[n * r + (c + 1)] + v[n * r + (c - 1)]) / 4.0f;\n",
    "\n",
    "        u[n * r + c] = \\\n",
    "            v[n * r + c] - \\\n",
    "            ((n - 1) * (n - 1) * (4 * v[n * r + c] - v[n * (r - 1) + c] - v[n * (r + 1) + c] - v[n * r + (c - 1)] - v[n * r + (c + 1)])) / (4 * (m - 1));\n",
    "\n",
    "        if (r == (n - 1) / 2 && c == (n - 1) / 2) {\n",
    "            temperature[0] = u[n * r + c];  // Centre of the plate.\n",
    "        }    \n",
    "    }\n",
    "}\n",
    "\n",
    "\"\"\"\n",
    "\n",
    "\n",
    "# Define the class FiniteDifferences.\n",
    "\n",
    "class FiniteDifferences:\n",
    "    \"\"\"\n",
    "    This class...\n",
    "    \"\"\"\n",
    "    \n",
    "    def __init__(self, n, m):\n",
    "        \"\"\"\n",
    "        This constructor...\n",
    "        \"\"\"\n",
    "        \n",
    "        # Store the n and m as instance variables for access by class methods.\n",
    "        \n",
    "        self._n = n\n",
    "        self._m = m\n",
    "        \n",
    "        \n",
    "        # Create a GPU specific context and command queue.\n",
    "        \n",
    "        self._ctx = cl.Context(dev_type = cl.device_type.GPU)\n",
    "        \n",
    "        self._queue = cl.CommandQueue(self._ctx, properties=cl.command_queue_properties.PROFILING_ENABLE)\n",
    " \n",
    "\n",
    "        # Create input and output buffers, u and v. Both u and v are READ_WRITE. This is because\n",
    "        # although we always initially copy data into u, we may read the result from u or v.\n",
    " \n",
    "        self._u = cl.Buffer(self._ctx, cl.mem_flags.READ_WRITE, size=np.dtype(np.int64).itemsize * n * n)\n",
    "        self._v = cl.Buffer(self._ctx, cl.mem_flags.READ_WRITE, size=np.dtype(np.int64).itemsize * n * n)\n",
    "        \n",
    "        \n",
    "        # Create a buffer to hold the current temperature of the centre of the plate.\n",
    "        \n",
    "        self._temperature = cl.Buffer(self._ctx, cl.mem_flags.READ_WRITE, size=np.dtype(np.int64).itemsize)\n",
    "\n",
    "\n",
    "        # Build the kernel.\n",
    "        \n",
    "        self._kernel = cl.Program(self._ctx, kernel_string).build().finite_differences\n",
    "\n",
    "\n",
    "    def copy_u_to_device(self, u):\n",
    "        \"\"\"\n",
    "        This method...        \n",
    "        \"\"\"\n",
    "        cl.enqueue_copy(self._queue, self._u, u)\n",
    "\n",
    "\n",
    "    def copy_u_from_device(self):\n",
    "        \"\"\"\n",
    "        This method...        \n",
    "        \"\"\"\n",
    "        u = np.zeros((self._n, self._n), dtype=np.int64)\n",
    "\n",
    "        cl.enqueue_copy(self._queue, u, self._u)            \n",
    "\n",
    "        return u\n",
    "\n",
    "\n",
    "    def copy_v_from_device(self):\n",
    "        \"\"\"\n",
    "        This method...        \n",
    "        \"\"\"\n",
    "        v = np.zeros((self._n, self._n), dtype=np.int64)\n",
    "\n",
    "        cl.enqueue_copy(self._queue, v, self._v)            \n",
    "\n",
    "        return v\n",
    "\n",
    "\n",
    "    def copy_temperature_from_device(self):\n",
    "        \"\"\"\n",
    "        This method...        \n",
    "        \"\"\"\n",
    "        temperature = np.zeros((1), dtype=np.int64)\n",
    "\n",
    "        cl.enqueue_copy(self._queue, temperature, self._temperature)            \n",
    "\n",
    "        return temperature[0]\n",
    "\n",
    "           \n",
    "    def iterate(self, direction=1):\n",
    "        \"\"\"\n",
    "        This method...\n",
    "        \"\"\"     \n",
    "        self._kernel(self._queue, (self._n, self._n), None, np.int32(self._n), np.int32(self._m), np.int32(direction), self._u, self._v, self._temperature)"
   ]
  },
  {
   "cell_type": "code",
   "execution_count": 481,
   "metadata": {},
   "outputs": [
    {
     "name": "stdout",
     "output_type": "stream",
     "text": [
      "Courant Number: 0.0078125\n",
      "t:  0.4240125\n"
     ]
    },
    {
     "data": {
      "image/png": "[encoded data removed]",
      "text/plain": [
       "<Figure size 576x432 with 2 Axes>"
      ]
     },
     "metadata": {
      "needs_background": "light"
     },
     "output_type": "display_data"
    }
   ],
   "source": [
    "#%%timeit\n",
    "\n",
    "N = 201\n",
    "M = 1280001\n",
    "\n",
    "u = np.full((N, N), 1_000_000_000_000, dtype=np.int64)\n",
    "u[0, :] = 1_500_000_000_000\n",
    "\n",
    "print(\"Courant Number: {}\".format(((N - 1) * (N - 1)) / (4 * (M - 1))))\n",
    "\n",
    "\n",
    "finite_differences = FiniteDifferences(N, M)\n",
    "\n",
    "finite_differences.copy_u_to_device(u)\n",
    "\n",
    "i = 0\n",
    "direction = 1\n",
    "\n",
    "while True:\n",
    "    finite_differences.iterate(direction)\n",
    "    i += 1\n",
    "    temperature = finite_differences.copy_temperature_from_device()\n",
    "    if not temperature < 1_100_000_000_000:\n",
    "        if direction == 1:\n",
    "            u = finite_differences.copy_v_from_device()\n",
    "        else:\n",
    "            u = finite_differences.copy_u_from_device()\n",
    "        break\n",
    "    direction *= -1\n",
    "\n",
    "\n",
    "#finite_differences.iterate(direction)\n",
    "\n",
    "#u = finite_differences.copy_v_from_device()\n",
    "\n",
    "\n",
    "print(\"t: \", i / (M - 1))\n",
    "\n",
    "plt.figure(figsize=(8, 6))\n",
    "plt.imshow(u, origin='lower', extent=(-1, 1, -1, 1), cmap='Reds')\n",
    "plt.colorbar()\n",
    "plt.show()"
   ]
  },
  {
   "cell_type": "code",
   "execution_count": null,
   "metadata": {},
   "outputs": [],
   "source": []
  }
 ],
 "metadata": {
  "kernelspec": {
   "display_name": "Python 3",
   "language": "python",
   "name": "python3"
  },
  "language_info": {
   "codemirror_mode": {
    "name": "ipython",
    "version": 3
   },
   "file_extension": ".py",
   "mimetype": "text/x-python",
   "name": "python",
   "nbconvert_exporter": "python",
   "pygments_lexer": "ipython3",
   "version": "3.7.5"
  }
 },
 "nbformat": 4,
 "nbformat_minor": 4
}
