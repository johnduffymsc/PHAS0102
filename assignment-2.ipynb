{
 "cells": [
  {
   "cell_type": "markdown",
   "metadata": {},
   "source": [
    "# Techniques of High Performance Computing - Assignment 2\n",
    "\n",
    "### Name: John Duffy\n",
    "\n",
    "### Student Number: 19154676"
   ]
  },
  {
   "cell_type": "code",
   "execution_count": 2,
   "metadata": {},
   "outputs": [],
   "source": [
    "# Import libraries common to Questions 1 & 2.\n",
    "\n",
    "import numpy as np\n",
    "import pyopencl as cl"
   ]
  },
  {
   "cell_type": "markdown",
   "metadata": {},
   "source": [
    "# Question 1\n",
    "\n",
    "## OpenCL CSR Matrix-Vector Product\n",
    "\n",
    "### Program Description\n",
    "\n",
    "This program...\n",
    "\n",
    "### Optimisation Results\n",
    "\n",
    "A class LinearOperatorBaseline was created to use as a baseline for measuring the performance gains through subsequnt use of OpenCL and AVX2."
   ]
  },
  {
   "cell_type": "code",
   "execution_count": 71,
   "metadata": {},
   "outputs": [],
   "source": [
    "from scipy.sparse import csr_matrix, eye\n",
    "from scipy.sparse.linalg import LinearOperator"
   ]
  },
  {
   "cell_type": "code",
   "execution_count": 72,
   "metadata": {},
   "outputs": [],
   "source": [
    "# Define the class LinearOperatorBaseline for baseline performance measurements.\n",
    "\n",
    "class LinearOperatorBaseline(LinearOperator):\n",
    "    \"\"\"\n",
    "    This class... \n",
    "    \"\"\"\n",
    "    \n",
    "    def __init__(self, data, indices, indptr):\n",
    "        \"\"\"\n",
    "        \"\"\"\n",
    "        self.data = data\n",
    "        self.indices = indices\n",
    "        self.indptr = indptr\n",
    "        self.shape = (len(indptr) - 1, len(indptr) - 1)  # Assume square.\n",
    "    \n",
    "    def _matvec(self, x):\n",
    "        \"\"\"\n",
    "        \"\"\"\n",
    "        y = np.zeros(x.shape[0], dtype=np.float64)\n",
    "        \n",
    "        for i in range(self.shape[1]): \n",
    "            y[i] = np.dot(self.data[self.indptr[i]:self.indptr[i + 1]], x[self.indices[self.indptr[i]]:self.indptr[i + 1]])\n",
    "            \n",
    "        return y"
   ]
  },
  {
   "cell_type": "code",
   "execution_count": 77,
   "metadata": {},
   "outputs": [],
   "source": [
    "# Create a test instance of LinearOperatorBaseline.\n",
    "\n",
    "N = 1000000\n",
    "\n",
    "csr = eye((N), dtype=np.float64).tocsr()\n",
    "\n",
    "linear_operator = LinearOperatorBaseline(csr.data, csr.indices, csr.indptr)\n",
    "\n",
    "v = np.full((N), 2)"
   ]
  },
  {
   "cell_type": "code",
   "execution_count": 78,
   "metadata": {},
   "outputs": [
    {
     "name": "stdout",
     "output_type": "stream",
     "text": [
      "2.32 s ± 15.9 ms per loop (mean ± std. dev. of 7 runs, 1 loop each)\n"
     ]
    }
   ],
   "source": [
    "%%timeit\n",
    "\n",
    "linear_operator.matvec(v)"
   ]
  },
  {
   "cell_type": "code",
   "execution_count": 79,
   "metadata": {},
   "outputs": [
    {
     "name": "stdout",
     "output_type": "stream",
     "text": [
      "2.29 s ± 17.7 ms per loop (mean ± std. dev. of 7 runs, 1 loop each)\n"
     ]
    }
   ],
   "source": [
    "%%timeit\n",
    "\n",
    "linear_operator * v"
   ]
  },
  {
   "cell_type": "code",
   "execution_count": 80,
   "metadata": {},
   "outputs": [
    {
     "data": {
      "text/plain": [
       "array([2., 2., 2., ..., 2., 2., 2.])"
      ]
     },
     "execution_count": 80,
     "metadata": {},
     "output_type": "execute_result"
    }
   ],
   "source": [
    "linear_operator.matvec(v)"
   ]
  },
  {
   "cell_type": "code",
   "execution_count": 81,
   "metadata": {},
   "outputs": [
    {
     "data": {
      "text/plain": [
       "array([2., 2., 2., ..., 2., 2., 2.])"
      ]
     },
     "execution_count": 81,
     "metadata": {},
     "output_type": "execute_result"
    }
   ],
   "source": [
    "linear_operator * v"
   ]
  },
  {
   "cell_type": "code",
   "execution_count": 82,
   "metadata": {},
   "outputs": [],
   "source": [
    "# Define the class LinearOperatorOpenCL.\n",
    "\n",
    "class LinearOperatorOpenCL(LinearOperator):\n",
    "    \"\"\"\n",
    "    This class... \n",
    "    \"\"\"\n",
    "    \n",
    "    def __init__(self, data, indices, indptr):\n",
    "        \"\"\"\n",
    "        \"\"\"\n",
    "        self.data = data\n",
    "        self.indices = indices\n",
    "        self.indptr = indptr\n",
    "        self.shape = (len(indptr) - 1, len(indptr) - 1)  # Assume square.\n",
    "    \n",
    "    def _matvec(self, x):\n",
    "        \"\"\"\n",
    "        \"\"\"\n",
    "        y = np.zeros(x.shape[0], dtype=np.float64)\n",
    "        \n",
    "        for i in range(self.shape[1]): \n",
    "            y[i] = np.dot(self.data[self.indptr[i]:self.indptr[i + 1]], x[self.indices[self.indptr[i]]:self.indptr[i + 1]])\n",
    "            \n",
    "        return y"
   ]
  },
  {
   "cell_type": "code",
   "execution_count": 83,
   "metadata": {},
   "outputs": [],
   "source": [
    "# Create a test instance of LinearOperatorOpenCL.\n",
    "\n",
    "N = 1000000\n",
    "\n",
    "csr = eye((N), dtype=np.float64).tocsr()\n",
    "\n",
    "linear_operator = LinearOperatorOpenCL(csr.data, csr.indices, csr.indptr)\n",
    "\n",
    "v = np.full((N), 2)"
   ]
  },
  {
   "cell_type": "code",
   "execution_count": 84,
   "metadata": {},
   "outputs": [
    {
     "name": "stdout",
     "output_type": "stream",
     "text": [
      "2.32 s ± 16.6 ms per loop (mean ± std. dev. of 7 runs, 1 loop each)\n"
     ]
    }
   ],
   "source": [
    "%%timeit\n",
    "\n",
    "linear_operator.matvec(v)"
   ]
  },
  {
   "cell_type": "code",
   "execution_count": 85,
   "metadata": {},
   "outputs": [
    {
     "name": "stdout",
     "output_type": "stream",
     "text": [
      "2.33 s ± 64.2 ms per loop (mean ± std. dev. of 7 runs, 1 loop each)\n"
     ]
    }
   ],
   "source": [
    "%%timeit\n",
    "\n",
    "linear_operator * v"
   ]
  },
  {
   "cell_type": "code",
   "execution_count": 86,
   "metadata": {},
   "outputs": [
    {
     "data": {
      "text/plain": [
       "array([2., 2., 2., ..., 2., 2., 2.])"
      ]
     },
     "execution_count": 86,
     "metadata": {},
     "output_type": "execute_result"
    }
   ],
   "source": [
    "linear_operator.matvec(v)"
   ]
  },
  {
   "cell_type": "code",
   "execution_count": 87,
   "metadata": {},
   "outputs": [
    {
     "data": {
      "text/plain": [
       "array([2., 2., 2., ..., 2., 2., 2.])"
      ]
     },
     "execution_count": 87,
     "metadata": {},
     "output_type": "execute_result"
    }
   ],
   "source": [
    "linear_operator * v"
   ]
  },
  {
   "cell_type": "code",
   "execution_count": null,
   "metadata": {},
   "outputs": [],
   "source": []
  },
  {
   "cell_type": "markdown",
   "metadata": {},
   "source": [
    "# Question 2\n",
    "\n",
    "## Solving a Poisson Problem with OpenCL\n",
    "\n",
    "### Program Description\n",
    "\n",
    "This program..."
   ]
  },
  {
   "cell_type": "code",
   "execution_count": null,
   "metadata": {},
   "outputs": [],
   "source": [
    "from scipy.sparse.linalg import cg "
   ]
  },
  {
   "cell_type": "code",
   "execution_count": null,
   "metadata": {},
   "outputs": [],
   "source": []
  }
 ],
 "metadata": {
  "kernelspec": {
   "display_name": "Python 3",
   "language": "python",
   "name": "python3"
  },
  "language_info": {
   "codemirror_mode": {
    "name": "ipython",
    "version": 3
   },
   "file_extension": ".py",
   "mimetype": "text/x-python",
   "name": "python",
   "nbconvert_exporter": "python",
   "pygments_lexer": "ipython3",
   "version": "3.7.5"
  }
 },
 "nbformat": 4,
 "nbformat_minor": 4
}
