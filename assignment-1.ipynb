{
 "cells": [
  {
   "cell_type": "markdown",
   "metadata": {},
   "source": [
    "# Techniques of High Performance Computing - Assignment 1\n",
    "\n",
    "## Name: John Duffy\n",
    "\n",
    "## Student Number: 19154676"
   ]
  },
  {
   "cell_type": "markdown",
   "metadata": {},
   "source": [
    "# Question 1\n",
    "\n",
    "## Random Walk on a Lattice\n",
    "\n",
    "### Program Description\n",
    "\n",
    "A particle is positioned at each of the (x, y) coordinates of a N x N lattice grid.\n",
    "M simualtions are carried out to determine the probability of each particle reaching\n",
    "the bottom boundary of the grid during a random walk of up to S steps.\n",
    "\n",
    "This is a compute bound problem, as there is no data shared between simulations.\n",
    "The result of each simualtion is independent and the result is success (if the bottom\n",
    "boundary is reached) or failure (if any other boundary is reached, or S steps are\n",
    "completed without a boundary being reached). A data structure is used to count the\n",
    "number of successes, which is subsequently turned into a probability.\n",
    "\n",
    "This is an integer problem. The random walks are implemented as a single integer\n",
    "step up, down, left or right. And the success counts are integer. Therefore, to avoid\n",
    "floating point overhead, as much as possible is done using integer data\n",
    "structures (which also results in a memory saving) and integer operations. A floating\n",
    "point data sructure is used at the end of the program to store the probabilties.\n",
    "\n",
    "Numpy arrays are used at the outset as the data structure to store the random walk\n",
    "success counts (an integer array) and the resulting probabilities (a float array). \n",
    "Matplotlib is then used to display the probabilities.\n",
    "\n",
    "#### Program Structure Optimisation\n",
    "\n",
    "Because this is a compute bound problem, the structure of the program was consisdered\n",
    "carefully to ensure function calls and repeated operations are minimised. Function/library\n",
    "calls considered likely to be expensive, e.g. numpy.random.ranint(), are done once outside\n",
    "of a loop rather than multiple times inside a loop.\n",
    "\n",
    "#### Pre Optimisation Results\n",
    "\n",
    "Using only Numpy the following baseline results were obtained:\n",
    "\n",
    "* M: 1000\n",
    "* N: 50\n",
    "* S: N * N\n",
    "\n",
    "* Time: 689 seconds\n",
    "* CPU Load: 13%\n",
    "\n",
    "\n",
    "##### 2019-10-19_Refinement_1\n",
    "\n",
    "The important thing is that each grid position is exposed to M independent random walks. It\n",
    "not important that each grid position is exposed to different M independent random walks.\n",
    "So, rather compute S random walk steps for each grid position for each simulation (M * N * N\n",
    "calls to numpy.random.randint()), we can compute S random walk steps for each simulation and\n",
    "apply the same steps to each grid position (M calls to numpy.random.randint()). A saving of\n",
    "a factor of N * N calls to numpy.random.randint(). This also has the added benefit of moving\n",
    "the numpy.random.randint() call out of the random_walk() function making it easier to\n",
    "further optimise this function. The S random walk steps are now passed into random_walk() as\n",
    "a parameter.\n",
    "\n",
    "* M: 1000\n",
    "* N: 50\n",
    "* S: N * N\n",
    "\n",
    "* Time: 677 seconds. Eh? Surprising and disappointing! Passing steps array problematic?\n",
    "\n",
    "* CPU Load: 13%\n",
    "\n",
    "#### Optimisation Results\n",
    "\n",
    "##### 2019-10-19_Refinement_1\n",
    "\n",
    "Added @njit decorator to random_walk() function.\n",
    "\n",
    "* M: 1000\n",
    "* N: 50\n",
    "* S: N * N\n",
    "\n",
    "* Time: 5.2 seconds\n",
    "* CPU Load: 13%\n",
    "\n",
    "##### 2019-10-23_Refinement_1\n",
    "\n",
    "Created a lattice_random_walk() function with the @njit(parallel=True) decorator. This function\n",
    "calls random_walk() for each lattice position, using prange to do this in parallel.\n",
    "\n",
    "Run with M = 1,000\n",
    "\n",
    "* M: 1000\n",
    "* N: 50\n",
    "* S: N * N\n",
    "\n",
    "* Time: 1.7 seconds\n",
    "* CPU Load: 85%\n",
    "\n",
    "Run with M = 10,000\n",
    "\n",
    "* M: 10000\n",
    "* N: 50\n",
    "* S: N * N\n",
    "\n",
    "* Time: 15.5 seconds (a linear increase in time)\n",
    "* CPU Load: 85%\n",
    "\n",
    "Run with M = 100,000\n",
    "\n",
    "* M: 100000\n",
    "* N: 50\n",
    "* S: N * N\n",
    "\n",
    "* Time: 151 seconds (a linear increase in time)\n",
    "* CPU Load: 90%\n"
   ]
  },
  {
   "cell_type": "markdown",
   "metadata": {},
   "source": [
    "#### Import required libraries"
   ]
  },
  {
   "cell_type": "code",
   "execution_count": 425,
   "metadata": {},
   "outputs": [],
   "source": [
    "import numpy as np\n",
    "import time\n",
    "\n",
    "from numba import njit, prange"
   ]
  },
  {
   "cell_type": "code",
   "execution_count": 426,
   "metadata": {},
   "outputs": [],
   "source": [
    "class Timer:    \n",
    "    def __enter__(self):\n",
    "        self.start = time.time()\n",
    "        return self\n",
    "\n",
    "    def __exit__(self, *args):\n",
    "        self.end = time.time()\n",
    "        self.interval = self.end - self.start\n"
   ]
  },
  {
   "cell_type": "code",
   "execution_count": 427,
   "metadata": {},
   "outputs": [],
   "source": [
    "# Define global variables used in the program.\n",
    "\n",
    "# Number of trials.\n",
    "\n",
    "M = 1000\n",
    "\n",
    "\n",
    "# Grid size, N x N.\n",
    "\n",
    "N = 50\n",
    "\n",
    "\n",
    "# The maximum number of random walk steps before terminating if a boundary is not reached.\n",
    "\n",
    "S = N * N\n"
   ]
  },
  {
   "cell_type": "code",
   "execution_count": 428,
   "metadata": {},
   "outputs": [],
   "source": [
    "@njit\n",
    "def random_walk(x, y, steps):\n",
    "    \"\"\"\n",
    "    This function takes as input the (x, y) position of a particle on an N x N grid, and then\n",
    "    takes up to S random walk steps up, down, left or right. The function returns True if the\n",
    "    bottom boundary is reached, or the bottom boundary is the initial position. The function\n",
    "    returns False if S steps are taken and no boundary is reached, or as soon as the\n",
    "    top, left or right boundarie are reached.\n",
    "    \n",
    "    The intention is to Just in Time compile this function using Numba/njit, so this code is\n",
    "    as close to simple 'C' like as possible.\n",
    "    \"\"\"\n",
    " \n",
    "    # Parameter sanity checks...\n",
    "    \n",
    "    assert x >= 1 and x <= N, \"x bound error\"\n",
    "    assert y >= 1 and y <= N, \"y bound error\"\n",
    "    \n",
    " \n",
    "    # If the intial position of the particle is on a boundary, no need to start a random walk.\n",
    "    # The order of tests selected to return True as soon as possible.\n",
    "    \n",
    "    if y == 1: return True  # Bottom   \n",
    "    if y == N: return False # Top    \n",
    "    if x == 1: return False # Left    \n",
    "    if x == N: return False # Right\n",
    "    \n",
    "\n",
    "    # Store initial (x, y) position...\n",
    "    \n",
    "    new_x = x\n",
    "    new_y = y\n",
    "    \n",
    "\n",
    "    # Start the random walk with the step directions defined as...\n",
    "\n",
    "    # 0 == down\n",
    "    # 1 == up\n",
    "    # 2 == left\n",
    "    # 3 == right\n",
    "   \n",
    "    for s in range(S):\n",
    "\n",
    "        # Take a step, and test for a boundary conditions as soon as possible...\n",
    "\n",
    "        if steps[s] == 0:\n",
    "            new_y -= 1\n",
    "            if new_y == 1:\n",
    "                return True\n",
    "\n",
    "        if steps[s] == 1:\n",
    "            new_y += 1\n",
    "            if new_y == N:\n",
    "                return False\n",
    "            \n",
    "        if steps[s] == 2:\n",
    "            new_x -= 1\n",
    "            if new_x == 1:\n",
    "                return False\n",
    "\n",
    "        if steps[s] == 3:\n",
    "            new_x += 1\n",
    "            if new_x == N:\n",
    "                return False\n",
    "    \n",
    "\n",
    "    # Boundary not reached...\n",
    "    \n",
    "    return False\n"
   ]
  },
  {
   "cell_type": "code",
   "execution_count": 429,
   "metadata": {},
   "outputs": [],
   "source": [
    "@njit(parallel=True)\n",
    "def lattice_random_walk(steps, successes):\n",
    "    \"\"\"\n",
    "    This function...\n",
    "    \"\"\"\n",
    "    for x in range (1, N + 1):\n",
    "        for y in prange (1, N + 1):\n",
    "            if random_walk(x, y, steps):\n",
    "                successes[x - 1, y - 1] += 1\n",
    "    "
   ]
  },
  {
   "cell_type": "code",
   "execution_count": 430,
   "metadata": {},
   "outputs": [
    {
     "name": "stdout",
     "output_type": "stream",
     "text": [
      "Total time: 1.6385829448699951\n"
     ]
    }
   ],
   "source": [
    "# Run M random walk simualtions on each (x, y) grid position.\n",
    "\n",
    "with Timer() as t:\n",
    "\n",
    "    # Define a successes array. This array counts the numbers of times the bottom boundary\n",
    "    # is reached for each position on the lattice over M simualtions. Success counts are\n",
    "    # integers so this array can use an integer datatype so save some memory, reduce cache\n",
    "    # hits and reduce floating point overhead.\n",
    "    \n",
    "    successes = np.zeros((N, N), dtype='uint32')\n",
    "\n",
    "\n",
    "    # Define a probabilities array. Probabilities are calculated at the end of the program \n",
    "    # to avoid floating point overhead.\n",
    "\n",
    "    probabilities = np.zeros((N, N))\n",
    "\n",
    "\n",
    "    # Conduct M simulations.\n",
    "    \n",
    "    for m in range(M):\n",
    "        \n",
    "        # The call to np.random.randint() is probelmatic for Numba. So, for each simulation\n",
    "        # generate the random steps that will be taken in advance and pass as a parameter to\n",
    "        # lattice_random_walk().\n",
    "        \n",
    "        steps = np.random.randint(4, size = S)\n",
    "        \n",
    "        \n",
    "        # Conduct a random walk over the lattice.\n",
    "        \n",
    "        lattice_random_walk(steps, successes)\n",
    "        \n",
    "\n",
    "    # Determine the probabilities.\n",
    "    \n",
    "    probabilities = successes / M\n",
    "    \n",
    "\n",
    "print(\"Total time: {0}\".format(t.interval))\n"
   ]
  },
  {
   "cell_type": "code",
   "execution_count": 431,
   "metadata": {},
   "outputs": [
    {
     "name": "stdout",
     "output_type": "stream",
     "text": [
      "[[1.    0.    0.    ... 0.    0.    0.   ]\n",
      " [1.    0.507 0.323 ... 0.002 0.001 0.   ]\n",
      " [1.    0.691 0.506 ... 0.004 0.002 0.   ]\n",
      " ...\n",
      " [1.    0.699 0.511 ... 0.003 0.    0.   ]\n",
      " [1.    0.49  0.316 ... 0.003 0.    0.   ]\n",
      " [1.    0.    0.    ... 0.    0.    0.   ]]\n"
     ]
    }
   ],
   "source": [
    "# Print the probabilites array for a sanity check.\n",
    "\n",
    "# NB We are using (1..N, 1..N) as (x, y) coordinates in a Cartesian sense, but Numpy\n",
    "# uses [row, column] starting in the top left. This means the Cartesian [x = 1, y = 1)\n",
    "# position is the top left [row = 1, col = 1] ndarray position. So, we will need to\n",
    "# rotate the array 90 degrees left for viewing.\n",
    "\n",
    "print(probabilities)\n"
   ]
  },
  {
   "cell_type": "code",
   "execution_count": 432,
   "metadata": {},
   "outputs": [
    {
     "data": {
      "image/png": "[encoded data removed]",
      "text/plain": [
       "<Figure size 864x864 with 2 Axes>"
      ]
     },
     "metadata": {
      "needs_background": "light"
     },
     "output_type": "display_data"
    }
   ],
   "source": [
    "%matplotlib inline\n",
    "\n",
    "import matplotlib.pyplot as plt\n",
    "\n",
    "fig = plt.figure(figsize=(12.0, 12.0))\n",
    "\n",
    "ax = fig.add_subplot(111)\n",
    "im = ax.matshow(np.rot90(probabilities)) # Convert from Numpy [row, col] to Cartesian [x, y].\n",
    "\n",
    "fig.colorbar(im)\n",
    "\n",
    "ax.set_title('Random Walk on a Lattice')\n",
    "plt.show()"
   ]
  },
  {
   "cell_type": "markdown",
   "metadata": {},
   "source": [
    "# Question 2\n",
    "\n",
    "## Potentials Generated by Random Particles\n",
    "\n",
    "### Program Description\n",
    "\n",
    "#### Part I\n",
    "\n",
    "Part I of the program implements an efficient method to compute and visualise f(r)\n",
    "for 1 < r < 10. This takes the form of a function...\n",
    "\n",
    "#### Part II\n",
    "\n",
    "Part II uses the function implemented in Part I to determine the influence of the\n",
    "parameters N, M and T (the number of random trials) by calling the function with\n",
    "differing values of N, M, and T.\n",
    "\n",
    "### Program Implementation\n",
    "\n",
    "The circular/angular nature of Question 2 naturally suggests the use of polar co-ordinates.\n",
    "This will reduce coding complexity by matching the program structure to the problem as\n",
    "closely as possible.\n",
    "\n",
    "Polar co-ordinates are not a basic data type in Python so it would be tempting to create\n",
    "a new 'polar' type to implement the program. But doing so would lead to increased work\n",
    "and extra complexity. However, complex numbers are a basic type and can be used to\n",
    "represent circular/angular quantities. With the additional benefit that because they are\n",
    "a basic type then all of the standard Python operators/functions/libraries can be used\n",
    "normally. This program uses the complex exponential form of complex numbers in the\n",
    "function f(r).\n",
    "\n",
    "### Program Optimisations\n",
    "\n",
    "Using only Numby, an initial benchmark for f(1000, 1000, 8.0) was timed using %%timeit:\n",
    "\n",
    "11.2 ms ± 85.7 µs per loop (mean ± std. dev. of 7 runs, 100 loops each)\n",
    "\n",
    "\n"
   ]
  },
  {
   "cell_type": "code",
   "execution_count": null,
   "metadata": {},
   "outputs": [],
   "source": []
  },
  {
   "cell_type": "markdown",
   "metadata": {},
   "source": [
    "## Part I"
   ]
  },
  {
   "cell_type": "code",
   "execution_count": 433,
   "metadata": {},
   "outputs": [],
   "source": [
    "import numexpr as ne\n",
    "import numpy as np\n",
    "import time\n",
    "\n",
    "from numba import njit, prange\n"
   ]
  },
  {
   "cell_type": "raw",
   "metadata": {},
   "source": [
    "PRE-OPTIMISATION IMPLMENTATION OF f(m, n, r)\n",
    "\n",
    "def f(m, n, r):\n",
    "    \"\"\"\n",
    "    This function evaluates f(r) with m equally spaced evaluation positions\n",
    "    on a circle of radius r, and with n randomly positioned unit charges inside\n",
    "    the unit circle. Both m and n are passed as parameters, as is r. \n",
    "    \"\"\"\n",
    "    \n",
    "    # Generate m evenly spaced evaluation positions around a circle of radius r.\n",
    "\n",
    "    evaluation_positions = np.zeros((m), dtype='complex64')\n",
    "    \n",
    "    for i in range(m):\n",
    "        evaluation_positions[i] = r * np.exp(1j * (2.0 * np.pi / m) * i)\n",
    "\n",
    "\n",
    "    # Generate n random unit charges inside the unit circle.\n",
    "    # Note: Numpy random.random() generates a random float [0.0, 1.0).\n",
    "    \n",
    "    charge_positions = np.zeros((n), dtype='complex64')\n",
    "    \n",
    "    for i in range(n): \n",
    "        charge_positions[i] = np.random.random() * np.exp(1j * np.random.random() * (2.0 * np.pi))\n",
    " \n",
    "    \n",
    "    # Calculate the distance between each evaluation position and charge position.\n",
    "    # the Numpy ufunc subtract.outer() generates the vector difference between\n",
    "    # each evaluation position and each charge. The Numpy absolute() function then\n",
    "    # converts each vector into a scalar length, the distance.\n",
    "    \n",
    "    distances = np.zeros((m, n))\n",
    "    \n",
    "    distances = np.absolute(np.subtract.outer(evaluation_positions, charge_positions))\n",
    "    \n",
    "\n",
    "    # Calculate the potential for each distance.\n",
    "    \n",
    "    potentials = np.zeros((m, n))\n",
    "    \n",
    "    potentials = 1.0 / (2.0 * np.pi) * np.log(distances) \n",
    "    \n",
    "    \n",
    "    # Return the potential per evaluation position per unit charge.\n",
    "    \n",
    "    return np.sum(potentials) / m / n\n"
   ]
  },
  {
   "cell_type": "code",
   "execution_count": 434,
   "metadata": {},
   "outputs": [],
   "source": [
    "def f(m, n, r):\n",
    "    \"\"\"\n",
    "    This function evaluates f(r) with m equally spaced evaluation positions\n",
    "    on a circle of radius r, and with n randomly positioned unit charges inside\n",
    "    the unit circle. Both m and n are passed as parameters, as is r. \n",
    "    \"\"\"\n",
    "    \n",
    "    # Generate m evenly spaced evaluation positions around a circle of radius r.\n",
    "\n",
    "    evaluation_positions = np.zeros((m), dtype='complex64')\n",
    "    \n",
    "    for i in range(m):\n",
    "        evaluation_positions[i] = r * np.exp(1j * (2.0 * np.pi / m) * i)\n",
    "\n",
    "\n",
    "    # Generate n random unit charges inside the unit circle.\n",
    "    # Note: Numpy random.random() generates a random float [0.0, 1.0).\n",
    "    \n",
    "    charge_positions = np.zeros((n), dtype='complex64')\n",
    "    \n",
    "    for i in range(n): \n",
    "        charge_positions[i] = np.random.random() * np.exp(1j * np.random.random() * (2.0 * np.pi))\n",
    " \n",
    "    \n",
    "    # Calculate the distance between each evaluation position and charge position.\n",
    "    # the Numpy ufunc subtract.outer() generates the complex number difference between\n",
    "    # each evaluation position and each charge. The Numpy absolute() function then\n",
    "    # converts each complex number into a scalar length, the distance.\n",
    "    \n",
    "    distances = np.zeros((m, n))\n",
    "    \n",
    "    distances = np.absolute(np.subtract.outer(evaluation_positions, charge_positions))\n",
    "    \n",
    "\n",
    "    # Calculate the potential for each distance.\n",
    "    \n",
    "    potentials = np.zeros((m, n))\n",
    "    \n",
    "    potentials = 1.0 / (2.0 * np.pi) * np.log(distances)\n",
    "    \n",
    "    \n",
    "    # Return the potential per evaluation position per unit charge.\n",
    "    \n",
    "    return np.sum(potentials) / m / n\n"
   ]
  },
  {
   "cell_type": "code",
   "execution_count": 435,
   "metadata": {},
   "outputs": [
    {
     "name": "stdout",
     "output_type": "stream",
     "text": [
      "11.2 ms ± 92 µs per loop (mean ± std. dev. of 7 runs, 100 loops each)\n"
     ]
    }
   ],
   "source": [
    "%%timeit\n",
    "\n",
    "# Time the f(m, n, r) function for a standard set of inputs, m = 1000, n = 1000, r = 8.0\n",
    "\n",
    "f(1000, 1000, 8.0)\n"
   ]
  },
  {
   "cell_type": "code",
   "execution_count": 436,
   "metadata": {},
   "outputs": [
    {
     "data": {
      "text/plain": [
       "0.330953375"
      ]
     },
     "execution_count": 436,
     "metadata": {},
     "output_type": "execute_result"
    }
   ],
   "source": [
    "# Sanity check of f()...\n",
    "\n",
    "f(1000, 1000, 8)"
   ]
  },
  {
   "cell_type": "code",
   "execution_count": 437,
   "metadata": {},
   "outputs": [
    {
     "name": "stdout",
     "output_type": "stream",
     "text": [
      "Total time: 1.0188570022583008\n",
      "[[1.1        0.01516909]\n",
      " [1.2        0.02901738]\n",
      " [1.3        0.04175657]\n",
      " [1.4        0.0535512 ]\n",
      " [1.5        0.06453178]\n",
      " [1.6        0.07480339]\n",
      " [1.7        0.08445212]\n",
      " [1.8        0.09354916]\n",
      " [1.9        0.10215424]\n",
      " [2.         0.11031783]\n",
      " [2.1        0.11808298]\n",
      " [2.2        0.12548689]\n",
      " [2.3        0.13256156]\n",
      " [2.4        0.13933519]\n",
      " [2.5        0.14583222]\n",
      " [2.6        0.15207439]\n",
      " [2.7        0.15808092]\n",
      " [2.8        0.16386898]\n",
      " [2.9        0.16945397]\n",
      " [3.         0.17484956]\n",
      " [3.1        0.18006817]\n",
      " [3.2        0.18512123]\n",
      " [3.3        0.19001866]\n",
      " [3.4        0.19476991]\n",
      " [3.5        0.19938344]\n",
      " [3.6        0.20386695]\n",
      " [3.7        0.20822762]\n",
      " [3.8        0.21247202]\n",
      " [3.9        0.21660616]\n",
      " [4.         0.22063566]\n",
      " [4.1        0.22456555]\n",
      " [4.2        0.22840075]\n",
      " [4.3        0.23214583]\n",
      " [4.4        0.23580469]\n",
      " [4.5        0.23938139]\n",
      " [4.6        0.24287936]\n",
      " [4.7        0.2463022 ]\n",
      " [4.8        0.24965297]\n",
      " [4.9        0.25293467]\n",
      " [5.         0.25615002]\n",
      " [5.1        0.25930166]\n",
      " [5.2        0.26239206]\n",
      " [5.3        0.26542375]\n",
      " [5.4        0.26839872]\n",
      " [5.5        0.27131912]\n",
      " [5.6        0.27418684]\n",
      " [5.7        0.27700372]\n",
      " [5.8        0.27977178]\n",
      " [5.9        0.28249234]\n",
      " [6.         0.28516741]\n",
      " [6.1        0.28779809]\n",
      " [6.2        0.29038597]\n",
      " [6.3        0.29293266]\n",
      " [6.4        0.29543903]\n",
      " [6.5        0.29790659]\n",
      " [6.6        0.30033644]\n",
      " [6.7        0.30272981]\n",
      " [6.8        0.30508778]\n",
      " [6.9        0.30741109]\n",
      " [7.         0.30970125]\n",
      " [7.1        0.31195866]\n",
      " [7.2        0.31418475]\n",
      " [7.3        0.31638003]\n",
      " [7.4        0.31854553]\n",
      " [7.5        0.32068184]\n",
      " [7.6        0.32278988]\n",
      " [7.7        0.32487031]\n",
      " [7.8        0.32692397]\n",
      " [7.9        0.32895144]\n",
      " [8.         0.33095331]\n",
      " [8.1        0.33293038]\n",
      " [8.2        0.33488344]\n",
      " [8.3        0.33681253]\n",
      " [8.4        0.33871862]\n",
      " [8.5        0.34060203]\n",
      " [8.6        0.34246359]\n",
      " [8.7        0.34430359]\n",
      " [8.8        0.34612237]\n",
      " [8.9        0.34792088]\n",
      " [9.         0.34969916]\n",
      " [9.1        0.35145778]\n",
      " [9.2        0.35319719]\n",
      " [9.3        0.35491781]\n",
      " [9.4        0.35661997]\n",
      " [9.5        0.35830425]\n",
      " [9.6        0.35997078]\n",
      " [9.7        0.36162003]\n",
      " [9.8        0.36325234]\n",
      " [9.9        0.36486825]]\n"
     ]
    }
   ],
   "source": [
    "S = 89\n",
    "\n",
    "data = np.zeros((S, 2))\n",
    "\n",
    "with Timer() as t:\n",
    "\n",
    "    for s in range(S):\n",
    "        data[s, 0] = 1.1 + s * 0.1\n",
    "        data[s, 1] = f(1000, 1000, 1.1 + s * 0.1)\n",
    "\n",
    "        \n",
    "print(\"Total time: {0}\".format(t.interval))\n",
    "\n",
    "print(data)\n"
   ]
  },
  {
   "cell_type": "code",
   "execution_count": 438,
   "metadata": {},
   "outputs": [
    {
     "data": {
      "image/png": "[encoded data removed]",
      "text/plain": [
       "<Figure size 864x864 with 1 Axes>"
      ]
     },
     "metadata": {
      "needs_background": "light"
     },
     "output_type": "display_data"
    }
   ],
   "source": [
    "%matplotlib inline\n",
    "\n",
    "import matplotlib.pyplot as plt\n",
    "\n",
    "fig = plt.figure(figsize=(12.0, 12.0))\n",
    "\n",
    "ax = fig.add_subplot(111)\n",
    "\n",
    "ax.plot(data[:,0], data[:,1])\n",
    "\n",
    "ax.set_title('Potentials Generated by Random Particles')\n",
    "\n",
    "plt.show()"
   ]
  },
  {
   "cell_type": "code",
   "execution_count": null,
   "metadata": {},
   "outputs": [],
   "source": []
  },
  {
   "cell_type": "markdown",
   "metadata": {},
   "source": [
    "## Part II"
   ]
  },
  {
   "cell_type": "code",
   "execution_count": 439,
   "metadata": {},
   "outputs": [],
   "source": [
    "def u0(r):\n",
    "    \"\"\"\n",
    "    This function returns the potential at radius r generated by a single particle\n",
    "    positioned at the centre of the unit circle.\n",
    "    \"\"\"\n",
    "    \n",
    "    return 1.0 / (2.0 * np.pi) * np.log(r)\n"
   ]
  },
  {
   "cell_type": "code",
   "execution_count": 440,
   "metadata": {},
   "outputs": [
    {
     "data": {
      "text/plain": [
       "0.3309534002289774"
      ]
     },
     "execution_count": 440,
     "metadata": {},
     "output_type": "execute_result"
    }
   ],
   "source": [
    "u0(8.0)"
   ]
  },
  {
   "cell_type": "code",
   "execution_count": 441,
   "metadata": {},
   "outputs": [],
   "source": [
    "def e(n, m, r):\n",
    "    \"\"\"\n",
    "    This function...\n",
    "    \"\"\"\n",
    "    return (f(n, m, r) - u0(r)) / u0(r)\n",
    "    "
   ]
  },
  {
   "cell_type": "code",
   "execution_count": 442,
   "metadata": {},
   "outputs": [
    {
     "data": {
      "text/plain": [
       "3.067163237908662e-08"
      ]
     },
     "execution_count": 442,
     "metadata": {},
     "output_type": "execute_result"
    }
   ],
   "source": [
    "e(1000, 1000, r)"
   ]
  },
  {
   "cell_type": "code",
   "execution_count": null,
   "metadata": {},
   "outputs": [],
   "source": []
  },
  {
   "cell_type": "code",
   "execution_count": null,
   "metadata": {},
   "outputs": [],
   "source": []
  },
  {
   "cell_type": "code",
   "execution_count": null,
   "metadata": {},
   "outputs": [],
   "source": []
  }
 ],
 "metadata": {
  "kernelspec": {
   "display_name": "Python 3",
   "language": "python",
   "name": "python3"
  },
  "language_info": {
   "codemirror_mode": {
    "name": "ipython",
    "version": 3
   },
   "file_extension": ".py",
   "mimetype": "text/x-python",
   "name": "python",
   "nbconvert_exporter": "python",
   "pygments_lexer": "ipython3",
   "version": "3.7.3"
  }
 },
 "nbformat": 4,
 "nbformat_minor": 4
}
