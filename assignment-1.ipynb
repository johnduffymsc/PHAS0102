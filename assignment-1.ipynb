{
 "cells": [
  {
   "cell_type": "markdown",
   "metadata": {},
   "source": [
    "# Assignment 1"
   ]
  },
  {
   "cell_type": "markdown",
   "metadata": {},
   "source": [
    "## Question 1\n",
    "\n",
    "### A program to simulate random walks.\n",
    "\n",
    "#### Program Description\n",
    "\n",
    "A particle is positioned at each of the (x, y) coordinates of a N x N lattice grid.\n",
    "M simualtions are carried out to determine the probability of each particle reaching\n",
    "the bottom boundary of the grid during a random walk of up to S steps.\n",
    "\n",
    "This is a compute bound problem, as there is no data shared between simulations.\n",
    "The result of each simualtion is independent and the result is success (if the bottom\n",
    "boundary is reached) or failure (if any other boundary is reached, or S steps are\n",
    "completed without a boundary being reached). A data structure is used to count the\n",
    "number of successes, which is subsequently turned into a probability.\n",
    "\n",
    "This is an integer problem. The random walks are implemented as a single integer\n",
    "step up, down, left or right. And the success counts are integer. Therefore, to avoid\n",
    "floating point overhead, as much as possible is done using integer data\n",
    "structures (which also results in a memory saving) and integer operations. A floating\n",
    "point data sructure is used at the end of the program to store the probabilties.\n",
    "\n",
    "Numpy arrays are used at the outset as the data structure to store the random walk\n",
    "success counts (an integer array) and the resulting probabilities (a float array). \n",
    "Matplotlib is then used to display the probabilities.\n",
    "\n",
    "#### Program Structure Optimisation\n",
    "\n",
    "Because this is a compute bound problem, the structure of the program was consisdered\n",
    "carefully to ensure function calls and repeated operations are minimised. Function calls\n",
    "considered likely to be expensive are done once outside of a loop rather than multiple\n",
    "times inside a loop.\n",
    "\n",
    "#### Pre Optimisation Results\n",
    "\n",
    "Using only Numpy the following baseline results were obtained:\n",
    "\n",
    "* M: 1000\n",
    "* N: 50\n",
    "* S: N * N\n",
    "\n",
    "* Time: 689 seconds\n",
    "\n"
   ]
  },
  {
   "cell_type": "markdown",
   "metadata": {},
   "source": [
    "#### Import required libraries"
   ]
  },
  {
   "cell_type": "code",
   "execution_count": 41,
   "metadata": {},
   "outputs": [],
   "source": [
    "import matplotlib.pyplot as plt\n",
    "import numpy as np\n",
    "import time\n"
   ]
  },
  {
   "cell_type": "code",
   "execution_count": 42,
   "metadata": {},
   "outputs": [],
   "source": [
    "class Timer:    \n",
    "    def __enter__(self):\n",
    "        self.start = time.time()\n",
    "        return self\n",
    "\n",
    "    def __exit__(self, *args):\n",
    "        self.end = time.time()\n",
    "        self.interval = self.end - self.start\n"
   ]
  },
  {
   "cell_type": "markdown",
   "metadata": {},
   "source": [
    "Define global variables"
   ]
  },
  {
   "cell_type": "code",
   "execution_count": 43,
   "metadata": {},
   "outputs": [],
   "source": [
    "# Number of trials. The same number of trials is conducted for each grid point.\n",
    "\n",
    "M = 1000\n",
    "\n",
    "# Grid size, N x N\n",
    "\n",
    "N = 50\n",
    "\n",
    "# The maximum number of random walk steps.\n",
    "\n",
    "S = N * N  # TODO: Sensible?\n"
   ]
  },
  {
   "cell_type": "markdown",
   "metadata": {},
   "source": [
    "Define Numpy arrays to store the number of trial successes (particle hits bottom boundary), and subsequently the probability of success.\n"
   ]
  },
  {
   "cell_type": "code",
   "execution_count": 44,
   "metadata": {},
   "outputs": [],
   "source": [
    "# Successes are integers, so use uint32 to save some memory and minimise cache misses. \n",
    "\n",
    "successes  = np.zeros((N, N), dtype='uint32')\n",
    "\n",
    "# Probabilities are calculated at the end of the program to avoid floating point overhead.\n",
    "\n",
    "probabilities = np.zeros((N, N))\n"
   ]
  },
  {
   "cell_type": "code",
   "execution_count": 45,
   "metadata": {},
   "outputs": [
    {
     "name": "stdout",
     "output_type": "stream",
     "text": [
      "[[0 0 0 ... 0 0 0]\n",
      " [0 0 0 ... 0 0 0]\n",
      " [0 0 0 ... 0 0 0]\n",
      " ...\n",
      " [0 0 0 ... 0 0 0]\n",
      " [0 0 0 ... 0 0 0]\n",
      " [0 0 0 ... 0 0 0]]\n"
     ]
    }
   ],
   "source": [
    "print(successes)\n"
   ]
  },
  {
   "cell_type": "code",
   "execution_count": 46,
   "metadata": {},
   "outputs": [],
   "source": [
    "def random_walk(x, y):\n",
    "    \"\"\"\n",
    "    This function takes as input the (x, y) position of a particle on an N x N grid, and then\n",
    "    takes up to S random walk steps up, down, left or right. The function returns True if the\n",
    "    bottom boundary is reached, or the bottom boundary is the initial position. The function\n",
    "    returns False if S steps are taken and no boundary is reached, or as soon as the\n",
    "    top, left or right boundarie are reached.\n",
    "    \"\"\"\n",
    " \n",
    "    # Parameter sanity checks...\n",
    "    \n",
    "    assert x >= 1 and x <= N, \"x bound error\"\n",
    "    assert y >= 1 and y <= N, \"y bound error\"\n",
    "    \n",
    " \n",
    "    # If the intial position of the particle is on a boundary, no need to start a random walk.\n",
    "    # The order of tests selected to return True as soon as possible.\n",
    "    \n",
    "    if y == 1: return True  # Bottom   \n",
    "    if y == N: return False # Top    \n",
    "    if x == 1: return False # Left    \n",
    "    if x == N: return False # Right\n",
    "    \n",
    "\n",
    "    # Store initial (x, y) position...\n",
    "    \n",
    "    new_x = x\n",
    "    new_y = y\n",
    "    \n",
    "\n",
    "    # Start the random walk with the step directions defined as...\n",
    "\n",
    "    # 0 == down\n",
    "    # 1 == up\n",
    "    # 2 == left\n",
    "    # 3 == right\n",
    "   \n",
    "    steps = np.random.randint(4, size = S)\n",
    "    \n",
    "    for s in range(S):\n",
    "\n",
    "        # Take a step, and test for a boundary conditions as soon as possible...\n",
    "\n",
    "        if steps[s] == 0:\n",
    "            new_y -= 1\n",
    "            if new_y == 1:\n",
    "                return True\n",
    "\n",
    "        if steps[s] == 1:\n",
    "            new_y += 1\n",
    "            if new_y == N:\n",
    "                return False\n",
    "            \n",
    "        if steps[s] == 2:\n",
    "            new_x -= 1\n",
    "            if new_x == 1:\n",
    "                return False\n",
    "\n",
    "        if steps[s] == 3:\n",
    "            new_x += 1\n",
    "            if new_x == N:\n",
    "                return False\n",
    "    \n",
    "\n",
    "    # Boundary not reached...\n",
    "    \n",
    "    return False\n"
   ]
  },
  {
   "cell_type": "code",
   "execution_count": null,
   "metadata": {},
   "outputs": [],
   "source": []
  },
  {
   "cell_type": "code",
   "execution_count": 47,
   "metadata": {},
   "outputs": [
    {
     "name": "stdout",
     "output_type": "stream",
     "text": [
      "Total time: 689.1060938835144\n"
     ]
    }
   ],
   "source": [
    "# Run M random walk simualtions on each (x, y) grid position.\n",
    "\n",
    "# NB We are using (1..N, 1..N) as (x, y) coordinates in a Cartesian sense, but Numpy\n",
    "# uses [row, column] starting in the top left. So, some jiggery pokery is\n",
    "# required to make the Numpy array look like a Cartesian array.\n",
    "\n",
    "with Timer() as t:\n",
    "    \n",
    "    for m in range(M):\n",
    "        for x in range (1, N + 1):\n",
    "            for y in range (1, N + 1):\n",
    "                if random_walk(x, y):\n",
    "                    successes[x - 1, y - 1] += 1 # TODO: Jiggery pokery! Or, do it in Matplotlib later?\n",
    "                \n",
    "    probabilities = successes / M\n",
    "\n",
    "print(\"Total time: {0}\".format(t.interval))\n"
   ]
  },
  {
   "cell_type": "code",
   "execution_count": 48,
   "metadata": {},
   "outputs": [
    {
     "name": "stdout",
     "output_type": "stream",
     "text": [
      "[[1000    0    0 ...    0    0    0]\n",
      " [1000  509  318 ...    1    0    0]\n",
      " [1000  702  521 ...    0    0    0]\n",
      " ...\n",
      " [1000  720  515 ...    2    0    0]\n",
      " [1000  510  309 ...    3    1    0]\n",
      " [1000    0    0 ...    0    0    0]]\n"
     ]
    }
   ],
   "source": [
    "print(successes)\n"
   ]
  },
  {
   "cell_type": "code",
   "execution_count": 49,
   "metadata": {},
   "outputs": [
    {
     "name": "stdout",
     "output_type": "stream",
     "text": [
      "[[1.    0.    0.    ... 0.    0.    0.   ]\n",
      " [1.    0.509 0.318 ... 0.001 0.    0.   ]\n",
      " [1.    0.702 0.521 ... 0.    0.    0.   ]\n",
      " ...\n",
      " [1.    0.72  0.515 ... 0.002 0.    0.   ]\n",
      " [1.    0.51  0.309 ... 0.003 0.001 0.   ]\n",
      " [1.    0.    0.    ... 0.    0.    0.   ]]\n"
     ]
    }
   ],
   "source": [
    "print(probabilities)\n"
   ]
  },
  {
   "cell_type": "code",
   "execution_count": 50,
   "metadata": {},
   "outputs": [
    {
     "data": {
      "text/plain": [
       "<matplotlib.image.AxesImage at 0x11a7d6ac8>"
      ]
     },
     "execution_count": 50,
     "metadata": {},
     "output_type": "execute_result"
    },
    {
     "data": {
      "image/png": "[encoded data removed]",
      "text/plain": [
       "<Figure size 288x288 with 1 Axes>"
      ]
     },
     "metadata": {
      "needs_background": "light"
     },
     "output_type": "display_data"
    }
   ],
   "source": [
    "plt.matshow(probabilities)\n"
   ]
  },
  {
   "cell_type": "markdown",
   "metadata": {},
   "source": [
    "## Question 2"
   ]
  },
  {
   "cell_type": "code",
   "execution_count": null,
   "metadata": {},
   "outputs": [],
   "source": []
  },
  {
   "cell_type": "code",
   "execution_count": null,
   "metadata": {},
   "outputs": [],
   "source": []
  }
 ],
 "metadata": {
  "kernelspec": {
   "display_name": "Python 3",
   "language": "python",
   "name": "python3"
  },
  "language_info": {
   "codemirror_mode": {
    "name": "ipython",
    "version": 3
   },
   "file_extension": ".py",
   "mimetype": "text/x-python",
   "name": "python",
   "nbconvert_exporter": "python",
   "pygments_lexer": "ipython3",
   "version": "3.7.3"
  }
 },
 "nbformat": 4,
 "nbformat_minor": 4
}
