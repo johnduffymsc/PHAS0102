{
 "cells": [
  {
   "cell_type": "markdown",
   "metadata": {},
   "source": [
    "# Techniques of High Performance Computing - Assignment 1\n",
    "\n",
    "## Name: John Duffy\n",
    "\n",
    "## Student Number: 19154676"
   ]
  },
  {
   "cell_type": "markdown",
   "metadata": {},
   "source": [
    "# Question 1\n",
    "\n",
    "## Random Walk on a Lattice\n",
    "\n",
    "### Program Description\n",
    "\n",
    "A particle is positioned at each of the (x, y) coordinates of a N x N lattice grid.\n",
    "M simualtions are carried out to determine the probability of each particle reaching\n",
    "the bottom boundary of the grid during a random walk of up to S steps.\n",
    "\n",
    "This is a compute bound problem, as there is no data shared between simulations.\n",
    "The result of each simualtion is independent and the result is success (if the bottom\n",
    "boundary is reached) or failure (if any other boundary is reached, or S steps are\n",
    "completed without a boundary being reached). A data structure is used to count the\n",
    "number of successes, which is subsequently turned into a probability.\n",
    "\n",
    "This is an integer problem. The random walks are implemented as a single integer\n",
    "step up, down, left or right. And the success counts are integer. Therefore, to avoid\n",
    "floating point overhead, as much as possible is done using integer data\n",
    "structures (which also results in a memory saving) and integer operations. A floating\n",
    "point data sructure is used at the end of the program to store the probabilties.\n",
    "\n",
    "Numpy arrays are used at the outset as the data structure to store the random walk\n",
    "success counts (an integer array) and the resulting probabilities (a float array). \n",
    "Matplotlib is then used to display the probabilities.\n",
    "\n",
    "#### Program Structure Optimisation\n",
    "\n",
    "Because this is a compute bound problem, the structure of the program was consisdered\n",
    "carefully to ensure function calls and repeated operations are minimised. Function/library\n",
    "calls considered likely to be expensive, e.g. numpy.random.ranint(), are done once outside\n",
    "of a loop rather than multiple times inside a loop.\n",
    "\n",
    "#### Pre Optimisation Results\n",
    "\n",
    "Using only Numpy the following baseline results were obtained:\n",
    "\n",
    "* M: 1000\n",
    "* N: 50\n",
    "\n",
    "* Time: 689 seconds\n",
    "* CPU Load: 13% (suggesting at best 1 of 4 core is being utilised)\n",
    "\n",
    "\n",
    "##### 2019-10-19_Refinement_1\n",
    "\n",
    "The important thing is that each grid position is exposed to M independent random walks. It\n",
    "not important that each grid position is exposed to different M independent random walks.\n",
    "So, rather compute S random walk steps for each grid position for each simulation (M * N * N\n",
    "calls to numpy.random.randint()), we can compute S random walk steps for each simulation and\n",
    "apply the same steps to each grid position (M calls to numpy.random.randint()). A saving of\n",
    "a factor of N * N calls to numpy.random.randint(). This also has the added benefit of moving\n",
    "the numpy.random.randint() call out of the random_walk() function making it easier to\n",
    "further optimise this function. The S random walk steps are now passed into random_walk() as\n",
    "a parameter.\n",
    "\n",
    "* M: 1000\n",
    "* N: 50\n",
    "* S: N * N\n",
    "\n",
    "* Time: 677 seconds. Eh? Surprising and disappointing! Passing steps array problematic?\n",
    "\n",
    "* CPU Load: 13%\n",
    "\n",
    "#### Optimisation Results\n",
    "\n",
    "##### 2019-10-19_Refinement_1\n",
    "\n",
    "Added @njit decorator to random_walk() function.\n",
    "\n",
    "* M: 1000\n",
    "* N: 50\n",
    "\n",
    "* Time: 5.2 seconds (a factor 100 reduction in time, for the same CPU load!)\n",
    "* CPU Load: 13%\n",
    "\n",
    "##### 2019-10-23_Refinement_1\n",
    "\n",
    "Created a lattice_random_walk() function with the @njit(parallel=True) decorator. This function\n",
    "calls random_walk() for each lattice position, using prange to do this in parallel.\n",
    "\n",
    "Run with M = 1,000\n",
    "\n",
    "* M: 1000\n",
    "* N: 50\n",
    "\n",
    "* Time: 1.5 seconds approx (a factor of 3 - 4 improvement, suggesting all cores utilised)\n",
    "* CPU Load: 90% (suggest all cores now being utilised)\n",
    "\n",
    "Run with M = 10,000\n",
    "\n",
    "* M: 10000\n",
    "* N: 50\n",
    "\n",
    "* Time: 15 seconds approx (a linear increase in time)\n",
    "* CPU Load: 90%\n",
    "\n",
    "Run with M = 100,000\n",
    "\n",
    "* M: 100000\n",
    "* N: 50\n",
    "\n",
    "* Time: 150 seconds approx (a linear increase in time)\n",
    "* CPU Load: 90%\n"
   ]
  },
  {
   "cell_type": "code",
   "execution_count": null,
   "metadata": {},
   "outputs": [],
   "source": [
    "# Import the required libraries and functions.\n",
    "\n",
    "import numpy as np\n",
    "import numexpr as ne\n",
    "import time\n",
    "\n",
    "import matplotlib.pyplot as plt\n",
    "\n",
    "from numba import njit, prange"
   ]
  },
  {
   "cell_type": "code",
   "execution_count": null,
   "metadata": {},
   "outputs": [],
   "source": [
    "# Declare gloabl variables.\n",
    "\n",
    "# Although it is generally bad programming practice to use global variables which\n",
    "# can lead to spaghetti code, on some occassions they can aid readability and reduce\n",
    "# repetition. Use sparingly.\n",
    "\n",
    "# As per the numexpr documetation, specific mathematical constants are not defined.\n",
    "# And numexpr seems to have problems with np.pi, so let's declare PI here.\n",
    "\n",
    "PI = 3.14159265358979323846\n"
   ]
  },
  {
   "cell_type": "code",
   "execution_count": null,
   "metadata": {},
   "outputs": [],
   "source": [
    "# Declare a useful timer class.\n",
    "\n",
    "class Timer:    \n",
    "    def __enter__(self):\n",
    "        self.start = time.time()\n",
    "        return self\n",
    "\n",
    "    def __exit__(self, *args):\n",
    "        self.end = time.time()\n",
    "        self.interval = self.end - self.start\n"
   ]
  },
  {
   "cell_type": "code",
   "execution_count": null,
   "metadata": {},
   "outputs": [],
   "source": [
    "@njit\n",
    "def random_walk(x, y, n, steps):\n",
    "    \"\"\"\n",
    "    This function takes as input the (x, y) position of a particle on an n x n grid, and then\n",
    "    takes up to n * n random walk steps up, down, left or right. The function returns True if the\n",
    "    bottom boundary is reached, or the bottom boundary is the initial position. The function\n",
    "    returns False if n * n steps are taken and no boundary is reached, or as soon as the\n",
    "    top, left or right boundarie are reached.\n",
    "    \n",
    "    The intention is to Just in Time compile this function using Numba/njit, so this code is\n",
    "    as close to simple 'C' like as possible.\n",
    "    \"\"\"\n",
    " \n",
    "    # Parameter sanity checks...\n",
    "    \n",
    "    assert x >= 1 and x <= n, \"x bound error\"\n",
    "    assert y >= 1 and y <= n, \"y bound error\"\n",
    "    \n",
    " \n",
    "    # If the intial position of the particle is on a boundary, no need to start a random walk.\n",
    "    # The order of tests selected to return True as soon as possible.\n",
    "    \n",
    "    if y == 1: return True  # Bottom   \n",
    "    if y == n: return False # Top    \n",
    "    if x == 1: return False # Left    \n",
    "    if x == n: return False # Right\n",
    "    \n",
    "\n",
    "    # Store initial (x, y) position...\n",
    "    \n",
    "    new_x = x\n",
    "    new_y = y\n",
    "    \n",
    "\n",
    "    # Start the random walk with the step directions defined as...\n",
    "\n",
    "    # 0 == down\n",
    "    # 1 == up\n",
    "    # 2 == left\n",
    "    # 3 == right\n",
    "    \n",
    "    for i in range(n * n):\n",
    "\n",
    "        # Take a step, and test for a boundary conditions as soon as possible...\n",
    "\n",
    "        if steps[i] == 0:\n",
    "            new_y -= 1\n",
    "            if new_y == 1:\n",
    "                return True\n",
    "\n",
    "        if steps[i] == 1:\n",
    "            new_y += 1\n",
    "            if new_y == n:\n",
    "                return False\n",
    "            \n",
    "        if steps[i] == 2:\n",
    "            new_x -= 1\n",
    "            if new_x == 1:\n",
    "                return False\n",
    "\n",
    "        if steps[i] == 3:\n",
    "            new_x += 1\n",
    "            if new_x == n:\n",
    "                return False\n",
    "    \n",
    "\n",
    "    # Boundary not reached...\n",
    "    \n",
    "    return False\n"
   ]
  },
  {
   "cell_type": "code",
   "execution_count": null,
   "metadata": {},
   "outputs": [],
   "source": [
    "@njit(parallel=True)\n",
    "def lattice_random_walk(n, steps, successes):\n",
    "    \"\"\"\n",
    "    This function counts the number of successes in reaching the bottom boundary of\n",
    "    an n x n grid after steps number of steps.\n",
    "    \"\"\"\n",
    "    for x in range (1, n + 1):\n",
    "        for y in prange (1, n + 1):\n",
    "            if random_walk(x, y, n, steps):\n",
    "                successes[x - 1, y - 1] += 1\n",
    "    "
   ]
  },
  {
   "cell_type": "code",
   "execution_count": null,
   "metadata": {},
   "outputs": [],
   "source": [
    "# Run M random walk simualtions on each (x, y) position of a N x N lattice.\n",
    "\n",
    "M = 10000\n",
    "N = 50\n",
    "\n",
    "with Timer() as t:\n",
    "\n",
    "    # Define a successes array. This array counts the numbers of times the bottom boundary\n",
    "    # is reached for each position on the lattice over M simualtions. Success counts are\n",
    "    # integers so this array can use an integer datatype so save some memory, reduce cache\n",
    "    # hits and reduce floating point overhead.\n",
    "    \n",
    "    successes = np.zeros((N, N), dtype='uint32')\n",
    "\n",
    "\n",
    "    # Define a probabilities array. Probabilities are calculated at the end of the program \n",
    "    # to avoid floating point overhead.\n",
    "\n",
    "    probabilities = np.zeros((N, N))\n",
    "\n",
    "\n",
    "    # Conduct M simulations.\n",
    "    \n",
    "    for m in range(M):\n",
    "        \n",
    "        # The call to np.random.randint() appears probelmatic for Numba. So, for each simulation\n",
    "        # generate the random steps that will be taken in advance and pass as a parameter to\n",
    "        # lattice_random_walk().\n",
    "        \n",
    "        steps = np.random.randint(4, size=N*N)\n",
    "        \n",
    "        \n",
    "        # Conduct a random walk over the lattice.\n",
    "        \n",
    "        lattice_random_walk(N, steps, successes)\n",
    "        \n",
    "\n",
    "    # Determine the probabilities.\n",
    "    \n",
    "    probabilities = successes / M\n",
    "    \n",
    "\n",
    "print(\"Total time: {0}\".format(t.interval))\n"
   ]
  },
  {
   "cell_type": "code",
   "execution_count": null,
   "metadata": {},
   "outputs": [],
   "source": [
    "# Print the probabilites array for a sanity check.\n",
    "\n",
    "# NB We are using (1..N, 1..N) as (x, y) coordinates in a Cartesian sense, but Numpy\n",
    "# uses [row, column] starting in the top left. This means the Cartesian [x = 1, y = 1)\n",
    "# position is the top left [row = 1, col = 1] ndarray position. So, we will need to\n",
    "# rotate the array 90 degrees left for viewing.\n",
    "\n",
    "print(probabilities)\n"
   ]
  },
  {
   "cell_type": "code",
   "execution_count": null,
   "metadata": {},
   "outputs": [],
   "source": [
    "#%matplotlib inline\n",
    "\n",
    "#import matplotlib.pyplot as plt\n",
    "\n",
    "fig = plt.figure(figsize=(12.0, 12.0))\n",
    "\n",
    "ax = fig.add_subplot(111)\n",
    "\n",
    "im = ax.matshow(np.rot90(probabilities)) # Convert from Numpy [row, col] to Cartesian [x, y].\n",
    "\n",
    "ax.set_title('Random Walk on a Lattice', fontsize=24)\n",
    "\n",
    "fig.colorbar(im)\n",
    "\n",
    "plt.show()"
   ]
  },
  {
   "cell_type": "markdown",
   "metadata": {},
   "source": [
    "## Convergence\n",
    "\n",
    "To study convergence as the number of random walks M and the number of lattice points N increases, requires a non-dimensional measure of convergence, i.e. one that does not depend upon the size of the lattice. So, as a simple measure of convergence, the average lattice point probability or reaching the bottom boundary was selected, and implemented in the function average_lattice_probability(). This also enables an easy iteration over M and N values."
   ]
  },
  {
   "cell_type": "code",
   "execution_count": null,
   "metadata": {},
   "outputs": [],
   "source": [
    "def average_lattice_probability(m, n):\n",
    "        \n",
    "    successes = np.zeros((n, n), dtype='uint32')\n",
    "\n",
    "    # Define a probabilities array. Probabilities are calculated at the end of the program \n",
    "    # to avoid floating point overhead.\n",
    "\n",
    "    probabilities = np.zeros((n, n))\n",
    "\n",
    "    # Conduct m simulations.\n",
    "    \n",
    "    for i in range(m):\n",
    "        \n",
    "        # The call to np.random.randint() appears probelmatic for Numba. So, for each simulation\n",
    "        # generate the random steps that will be taken in advance and pass as a parameter to\n",
    "        # lattice_random_walk().\n",
    "        \n",
    "        steps = np.random.randint(4, size=n*n)\n",
    "               \n",
    "        # Conduct a random walk over the lattice.\n",
    "        \n",
    "        lattice_random_walk(n, steps, successes)\n",
    "        \n",
    "    # Determine the probabilities.\n",
    "    \n",
    "    probabilities = successes / m\n",
    "    \n",
    "    # Return the avaerage lattice position probability.\n",
    "    \n",
    "    return np.sum(probabilities) / n / n\n"
   ]
  },
  {
   "cell_type": "markdown",
   "metadata": {},
   "source": [
    "### Convergence as the Number of Random Walks M increases"
   ]
  },
  {
   "cell_type": "code",
   "execution_count": null,
   "metadata": {},
   "outputs": [],
   "source": [
    "# For a fixed lattice size N x N, determine how the average lattice probability\n",
    "# varies as M is increased.\n",
    "\n",
    "M = 256 # Maximum M\n",
    "N = 32  # Fixed N\n",
    "\n",
    "average_probability = np.zeros((M))\n",
    "\n",
    "for i in range(M):\n",
    "    average_probability[i] = average_lattice_probability(i + 1, N)\n",
    "    \n",
    "fig = plt.figure(figsize=(12.0, 12.0))\n",
    "\n",
    "plt.plot(range(1, M + 1), average_probability)\n",
    "\n",
    "plt.title('Average Lattice Probability', fontsize=14)\n",
    "plt.xlabel('Number of Random Walks M')\n",
    "plt.ylabel('Prob(M)')\n",
    "\n",
    "plt.grid()\n",
    "plt.show()\n",
    "    "
   ]
  },
  {
   "cell_type": "markdown",
   "metadata": {},
   "source": [
    "As can be seen, as the number of random walks increases, for a fixed lattice size, the average\n",
    "probability of a particle on any position on the lattice reaching the bottom boundary stabilises\n",
    "to approximately 0.25 after 100 (approximately) random walks. The value of 0.25 is reasonable\n",
    "since there are 4 boundaries to the lattice and we are measuring the probability of reaching\n",
    "one of them. This stabilising of the probability is to be expected as an increased number of\n",
    "random walks will have an averaging and smooothing effect on the probability. Below 50 random\n",
    "walks results in erratic average probabilities."
   ]
  },
  {
   "cell_type": "markdown",
   "metadata": {},
   "source": [
    "### Convergence as the Lattice Size N x N Increases"
   ]
  },
  {
   "cell_type": "code",
   "execution_count": null,
   "metadata": {},
   "outputs": [],
   "source": [
    "# For a fixed number of random walks, determine how lattice size affects the probability\n",
    "# as N is increased.\n",
    "\n",
    "M = 100 # Fixed M\n",
    "N = 100 # Maximum N\n",
    "\n",
    "average_probability = np.zeros((N))\n",
    "\n",
    "for i in range(3, N):\n",
    "    average_probability[i] = average_lattice_probability(M, i + 1)\n",
    "    \n",
    "fig = plt.figure(figsize=(12.0, 12.0))\n",
    "\n",
    "plt.plot(range(1, N + 1), average_probability)\n",
    "\n",
    "plt.title('Average Lattice Probability', fontsize=14)\n",
    "plt.xlabel('N')\n",
    "plt.ylabel('Prob(N)')\n",
    "\n",
    "plt.grid()\n",
    "plt.show()\n",
    "    "
   ]
  },
  {
   "cell_type": "markdown",
   "metadata": {},
   "source": [
    "Ignoring lattice sizes of less than 4 x 4 in size, from the above it can be seen that the\n",
    "probability of any particle reaching the bottom boundary is approximately 0.25 and is\n",
    "independant of the lattice size. Again this is reasonable given there are 4 boundaries to the\n",
    "lattice. However, this does require further study because for the moment we have set random\n",
    "walks to terminate after n x n steps if any boundary is not reached."
   ]
  },
  {
   "cell_type": "markdown",
   "metadata": {},
   "source": [
    "# Question 2\n",
    "\n",
    "## Potentials Generated by Random Particles\n",
    "\n",
    "### Program Description\n",
    "\n",
    "#### Part I\n",
    "\n",
    "Part I of the program implements an efficient method to compute and visualise f(r)\n",
    "for 1 < r < 10. This takes the form of functions f(m, n ,r) and visualise_f(m, n).\n",
    "The decision to pass the additional parameters m and n into the functions was taken\n",
    "to reduce any potential problems with global variables, and to make it easier to\n",
    "iterate of f(m, n, r) for different values of m and n.\n",
    "\n",
    "#### Part II\n",
    "\n",
    "Part II uses the function f(m, n, r) implemented in Part I to determine the influence of the\n",
    "parameters N, M and T (the number of random trials) by calling the function with\n",
    "differing values of N, M, and T.\n",
    "\n",
    "### Program Implementation\n",
    "\n",
    "The circular/angular nature of Question 2 naturally suggests the use of polar co-ordinates.\n",
    "This will reduce coding complexity by matching the program structure to the problem as\n",
    "closely as possible.\n",
    "\n",
    "Polar co-ordinates are not a basic data type in Python so it would be tempting to create\n",
    "a new 'polar' type to implement the program. But doing so would lead to increased work\n",
    "and extra complexity. However, complex numbers are a basic type and can be used to\n",
    "represent circular/angular quantities. With the additional benefit that because they are\n",
    "a basic type then all of the standard Python operators/functions/libraries can be used\n",
    "normally. This program uses the complex exponential form of complex numbers in the\n",
    "function f(r).\n",
    "\n",
    "### Program Optimisations\n",
    "\n",
    "Using only Numpy, an initial benchmark for f(512, 1024, 8.0) was timed using %%timeit with the\n",
    "following result:\n",
    "\n",
    "6.86 ms ± 79.6 µs per loop (mean ± std. dev. of 7 runs, 100 loops each)\n",
    "\n"
   ]
  },
  {
   "cell_type": "markdown",
   "metadata": {},
   "source": [
    "## Part I\n",
    "\n",
    "### Implement an Efficient Method to Compute and Visualise f(r) for 1 < r < 10"
   ]
  },
  {
   "cell_type": "code",
   "execution_count": null,
   "metadata": {},
   "outputs": [],
   "source": [
    "def f(m, n, r, plot=False):\n",
    "    \"\"\"\n",
    "    This function evaluates f(r) with m equally spaced evaluation positions\n",
    "    on a circle of radius r, and with n randomly positioned unit charges inside\n",
    "    the unit circle. Both m and n are passed as parameters, as is r. \n",
    "    \"\"\"\n",
    "    \n",
    "    # Generate m evenly spaced evaluation positions around a circle of radius r.\n",
    "\n",
    "    evaluation_positions = np.zeros((m), dtype='complex64')\n",
    "    \n",
    "    for i in range(m):\n",
    "        evaluation_positions[i] = r * np.exp(1j * (2.0 * np.pi / m) * i)\n",
    "\n",
    "\n",
    "    # Generate n random unit charges inside the unit circle.\n",
    "    # Note: Numpy random.random() generates a random float [0.0, 1.0).\n",
    "    \n",
    "    charge_positions = np.zeros((n), dtype='complex64')\n",
    "    \n",
    "    for i in range(n): \n",
    "        charge_positions[i] = np.random.random() * np.exp(1j * np.random.random() * (2.0 * np.pi))\n",
    "        \n",
    "    \n",
    "    # Visual sanity check.\n",
    "    \n",
    "    if plot == True:\n",
    "\n",
    "        fig = plt.figure(figsize=(12.0, 12.0))\n",
    "\n",
    "        for i in range(m):\n",
    "            plt.polar(np.angle(evaluation_positions[i]), np.absolute(evaluation_positions[i]), 'ro')\n",
    "    \n",
    "        for i in range(n):\n",
    "            plt.polar(np.angle(charge_positions[i]), np.absolute(charge_positions[i]), 'bo')\n",
    "\n",
    "        plt.title('Evaluation of Function f(m, n, r)', fontsize='14')\n",
    "        \n",
    "        plt.show()\n",
    "\n",
    "\n",
    "    # Calculate the distance between each evaluation position and charge position.\n",
    "    # the Numpy ufunc subtract.outer() generates the complex number difference between\n",
    "    # each evaluation position and each charge. The Numpy absolute() function then\n",
    "    # converts each complex number into a scalar length, the distance.\n",
    "    \n",
    "    distances = np.zeros((m, n))\n",
    "    \n",
    "    distances = np.absolute(np.subtract.outer(evaluation_positions, charge_positions))\n",
    "    \n",
    "\n",
    "    # Calculate the potential for each distance.\n",
    "    \n",
    "    potentials = np.zeros((m, n))\n",
    "    \n",
    "    potentials = 1.0 / (2.0 * np.pi) * np.log(distances)\n",
    "    \n",
    "\n",
    "    # Return the potential per evaluation position per unit charge.\n",
    "    \n",
    "    return np.sum(potentials) / m / n\n"
   ]
  },
  {
   "cell_type": "code",
   "execution_count": null,
   "metadata": {},
   "outputs": [],
   "source": [
    "# A visual sanity check of the function f(m, n, r)...\n",
    "\n",
    "m = 8\n",
    "n = 256\n",
    "r = 2\n",
    "p = True # Plot\n",
    "\n",
    "print('f({m}, {n}, {r}, {p}) = {result}'.format(m=m, n=n, r=r, p=p, result=f(m, n, r, True)))"
   ]
  },
  {
   "cell_type": "code",
   "execution_count": null,
   "metadata": {},
   "outputs": [],
   "source": [
    "%%timeit\n",
    "\n",
    "# A speed check of the function f()...\n",
    "\n",
    "f(512, 1024, 8.0)\n"
   ]
  },
  {
   "cell_type": "code",
   "execution_count": null,
   "metadata": {},
   "outputs": [],
   "source": [
    "def visualise_f(m, n):\n",
    "    \"\"\"\n",
    "    This function visualises f(m, n, r) in the interval 1 < r < 10 in 0.1 increments.\n",
    "    \"\"\"\n",
    "\n",
    "    fr = np.zeros((89))\n",
    "\n",
    "    for i in range(89):\n",
    "        fr[i] = f(M, N, 1.1 + i * 0.1)\n",
    "\n",
    "    fig = plt.figure(figsize=(12.0, 12.0))\n",
    "\n",
    "    plt.plot(np.arange(1.1, 10, 0.1), fr)\n",
    "\n",
    "    plt.xlabel('Radius r', fontsize=14)\n",
    "    plt.ylabel('Potential f(r)', fontsize=14)\n",
    "\n",
    "    plt.title('Potentials Generated by Random Particles', fontsize=24)\n",
    "\n",
    "    plt.grid()\n",
    "    plt.show()"
   ]
  },
  {
   "cell_type": "code",
   "execution_count": null,
   "metadata": {},
   "outputs": [],
   "source": [
    "visualise_f(512, 1024)"
   ]
  },
  {
   "cell_type": "markdown",
   "metadata": {},
   "source": [
    "## Part II\n",
    "\n",
    "### Estimate the Expected Relative Difference e(r)\n",
    "\n",
    "A single particle at the centre of the unit circle..."
   ]
  },
  {
   "cell_type": "code",
   "execution_count": null,
   "metadata": {},
   "outputs": [],
   "source": [
    "def u0(r):\n",
    "    \"\"\"\n",
    "    This function returns the potential at radius r generated by a single particle\n",
    "    positioned at the centre of the unit circle.\n",
    "    \"\"\"\n",
    "    \n",
    "    return 1.0 / (2.0 * np.pi) * np.log(r)\n"
   ]
  },
  {
   "cell_type": "code",
   "execution_count": 68,
   "metadata": {},
   "outputs": [
    {
     "data": {
      "image/png": "[encoded data removed]",
      "text/plain": [
       "<Figure size 864x864 with 1 Axes>"
      ]
     },
     "metadata": {
      "needs_background": "light"
     },
     "output_type": "display_data"
    }
   ],
   "source": [
    "# Plot u0(r).\n",
    "\n",
    "single_charge_potential = np.zeros((89))\n",
    "\n",
    "for i in range(89):\n",
    "    single_charge_potential[i] = u0(1.1 + i * 0.1)\n",
    "\n",
    "fig = plt.figure(figsize=(12.0, 12.0))\n",
    "\n",
    "plt.plot(np.arange(1.1, 10, 0.1), single_charge_potential)\n",
    "\n",
    "plt.xlabel('Radius r', fontsize=14)\n",
    "plt.ylabel('u0(r)', fontsize=14)\n",
    "\n",
    "plt.title('Single Charge Potential', fontsize=24)\n",
    "\n",
    "plt.grid()\n",
    "plt.show()\n"
   ]
  },
  {
   "cell_type": "code",
   "execution_count": null,
   "metadata": {},
   "outputs": [],
   "source": [
    "%%timeit\n",
    "\n",
    "# Test u0(r)...\n",
    "\n",
    "u0(8.0)"
   ]
  },
  {
   "cell_type": "code",
   "execution_count": 69,
   "metadata": {},
   "outputs": [],
   "source": [
    "def e(m, n, r):\n",
    "    \"\"\"\n",
    "    This function returns the expected value e(r) for the relative difference of u0(r) and f(r).\n",
    "    Values of m and n are passed as parameters for ease of iteration over parameter values when\n",
    "    calling this function from outer loops.\n",
    "    \"\"\"\n",
    "    return np.absolute(f(m, n, r) - u0(r)) / u0(r)\n",
    "    "
   ]
  },
  {
   "cell_type": "code",
   "execution_count": 91,
   "metadata": {},
   "outputs": [
    {
     "data": {
      "image/png": "[encoded data removed]",
      "text/plain": [
       "<Figure size 864x864 with 1 Axes>"
      ]
     },
     "metadata": {
      "needs_background": "light"
     },
     "output_type": "display_data"
    }
   ],
   "source": [
    "# Plot the expected relative difference for fixed values of M and N. The expected\n",
    "# relative distance should be the greatest when there is a single randomly placed\n",
    "# charge and a single evaluation point, so set M = 1 and N = 1.\n",
    "\n",
    "M = 1\n",
    "N = 1\n",
    "\n",
    "relative_difference = np.zeros((89))\n",
    "\n",
    "for i in range(89):\n",
    "    relative_difference[i] = e(M, N, 1.1 + i * 0.1)\n",
    "\n",
    "fig = plt.figure(figsize=(12.0, 12.0))\n",
    "\n",
    "plt.plot(np.arange(1.1, 10, 0.1), relative_difference)\n",
    "\n",
    "plt.xlabel('Radius r', fontsize=14)\n",
    "plt.ylabel('Relative Difference e(r)', fontsize=14)\n",
    "\n",
    "plt.title('Relative Difference', fontsize=24)\n",
    "\n",
    "plt.grid()\n",
    "plt.show()\n"
   ]
  },
  {
   "cell_type": "markdown",
   "metadata": {},
   "source": [
    "With a single evaluation point and a single randomly placed charge there should be the maximum\n",
    "(dependent upon charge location) deviation from a single charge placed at the centre of the\n",
    "unit circle. This deviation should be a maximum close to the unit cirle and diminish as r\n",
    "increases. This can be seen in the plot above."
   ]
  },
  {
   "cell_type": "code",
   "execution_count": null,
   "metadata": {},
   "outputs": [],
   "source": [
    "%%timeit\n",
    "\n",
    "# Test e(m, n, r)...\n",
    "\n",
    "e(64, 1024, 2)"
   ]
  },
  {
   "cell_type": "markdown",
   "metadata": {},
   "source": [
    "### Influence of M on Relative Difference e(r)"
   ]
  },
  {
   "cell_type": "code",
   "execution_count": 122,
   "metadata": {},
   "outputs": [
    {
     "data": {
      "image/png": "[encoded data removed]",
      "text/plain": [
       "<Figure size 864x864 with 1 Axes>"
      ]
     },
     "metadata": {
      "needs_background": "light"
     },
     "output_type": "display_data"
    }
   ],
   "source": [
    "# Investigate the influence of the number of evaluation points M on the relative error\n",
    "# for a fixed value of randomly placed charges N.\n",
    "\n",
    "M = [1, 2, 4, 8]\n",
    "N = 1\n",
    "\n",
    "relative_difference = np.zeros((4, 89))\n",
    "\n",
    "for i in range(4): \n",
    "    for j in range(89):\n",
    "        relative_difference[i, j] = e(M[i], N, 1.1 + j * 0.1)\n",
    "        \n",
    "fig = plt.figure(figsize=(12.0, 12.0))\n",
    "\n",
    "plt.plot(np.arange(1.1, 10, 0.1), relative_difference[0], label='M = 1')\n",
    "plt.plot(np.arange(1.1, 10, 0.1), relative_difference[1], label='M = 2')\n",
    "plt.plot(np.arange(1.1, 10, 0.1), relative_difference[2], label='M = 4')\n",
    "plt.plot(np.arange(1.1, 10, 0.1), relative_difference[3], label='M = 8')\n",
    "\n",
    "plt.xlabel('Radius r', fontsize=14)\n",
    "plt.ylabel('Relative Distance e(r)', fontsize=14)\n",
    "\n",
    "plt.title('Influence of M on Relative Difference e(r)', fontsize=24)\n",
    "\n",
    "plt.legend()\n",
    "plt.grid()\n",
    "plt.show()\n"
   ]
  },
  {
   "cell_type": "markdown",
   "metadata": {},
   "source": [
    "As can be seen from the plot above, the relative difference decreases as M increases. This\n",
    "is to be expected since the greater the value of M the closer our trapezoidal rule approximation\n",
    "of f(r) gets to the exact integral f(r)."
   ]
  },
  {
   "cell_type": "markdown",
   "metadata": {},
   "source": [
    "### Influence of N on Expected Relative Error e(r) "
   ]
  },
  {
   "cell_type": "code",
   "execution_count": 132,
   "metadata": {},
   "outputs": [
    {
     "data": {
      "image/png": "[encoded data removed]",
      "text/plain": [
       "<Figure size 864x864 with 1 Axes>"
      ]
     },
     "metadata": {
      "needs_background": "light"
     },
     "output_type": "display_data"
    }
   ],
   "source": [
    "# Investigate the influence of the number of randomly placed charges N on the. From\n",
    "# the investigation of the influence of M on the relative difference, it was noted\n",
    "# that a higher value of M reduces the relative difference. So, set M = 8 to\n",
    "# isolate the effect of M from this investigation.\n",
    "\n",
    "M = 8\n",
    "N = [1, 2, 4, 8]\n",
    "\n",
    "relative_difference = np.zeros((4, 89))\n",
    "\n",
    "for i in range(4): \n",
    "    for j in range(89):\n",
    "        relative_difference[i, j] = e(M, N[i], 1.1 + j * 0.1)\n",
    "        \n",
    "fig = plt.figure(figsize=(12.0, 12.0))\n",
    "\n",
    "plt.plot(np.arange(1.1, 10, 0.1), relative_difference[0], label='N = 1')\n",
    "plt.plot(np.arange(1.1, 10, 0.1), relative_difference[1], label='N = 2')\n",
    "plt.plot(np.arange(1.1, 10, 0.1), relative_difference[2], label='N = 4')\n",
    "plt.plot(np.arange(1.1, 10, 0.1), relative_difference[3], label='N = 8')\n",
    "\n",
    "plt.xlabel('Radius r', fontsize=14)\n",
    "plt.ylabel('Relative Distance e(r)', fontsize=14)\n",
    "\n",
    "plt.title('Influence of N on Relative Difference e(r)', fontsize=24)\n",
    "\n",
    "plt.legend()\n",
    "plt.grid()\n",
    "plt.show()\n"
   ]
  },
  {
   "cell_type": "markdown",
   "metadata": {},
   "source": [
    "The evidence from the plot above is less clear cut regarding the influence of N when N is\n",
    "very low, 1 or 2, due to the random nature of the charge placement. But as N increases the\n",
    "relative difference decreases. This is to be expected since as the number of randomly\n",
    "placed charges increases the more the total charge in the unit circle will approximate\n",
    "a single charge of unit radius."
   ]
  },
  {
   "cell_type": "markdown",
   "metadata": {},
   "source": [
    "### Influence of T (Number of Trials) on Relative Difference e(r) "
   ]
  },
  {
   "cell_type": "markdown",
   "metadata": {},
   "source": [
    "Increasing the number of trials for each of the investigations into the influence of M and N\n",
    "should smooth out the fluctuations due the nature of the random charge placement."
   ]
  },
  {
   "cell_type": "code",
   "execution_count": null,
   "metadata": {},
   "outputs": [],
   "source": []
  },
  {
   "cell_type": "code",
   "execution_count": null,
   "metadata": {},
   "outputs": [],
   "source": [
    "T = 64    # Max trials\n",
    "M = 8     # Max evaluation points \n",
    "N = 8     # Max randomly placed charges\n",
    "R = 89    # 89 steps in interval [1.1, 10) in 0.1 increments\n",
    "\n",
    "e_results = np.zeros((T, M, N, R))\n"
   ]
  },
  {
   "cell_type": "code",
   "execution_count": null,
   "metadata": {},
   "outputs": [],
   "source": [
    "def e_results(t, m, n, e_results):\n",
    "    for i in range(t):\n",
    "        for j in range(m):\n",
    "            for k in range(n):\n",
    "                for r in range(R):\n",
    "                    e_results[t, m, n, r] = e(m + 1, n + 1, 1.1 + r * 0.1)\n"
   ]
  },
  {
   "cell_type": "code",
   "execution_count": null,
   "metadata": {},
   "outputs": [],
   "source": [
    "def e_trials(t):\n",
    "    \"\"\"\n",
    "    This function is designed to be called by \n",
    "    \"\"\"\n",
    "    for m in range(M):\n",
    "        for n in range(N):\n",
    "            for r in range(R):\n",
    "                e_results[t, m, n, r] = e(m + 1, n + 1, 1.1 + 0.1 * r)\n",
    "\n"
   ]
  },
  {
   "cell_type": "code",
   "execution_count": null,
   "metadata": {},
   "outputs": [],
   "source": [
    "from multiprocessing import Pool, RawArray\n",
    "\n",
    "T = 64    # Max trials\n",
    "M = 512   # Max evaluation points \n",
    "N = 1024  # Max randomly placed charges\n",
    "R = 89    # 89 steps in interval [1.1, 10) in 0.1 increments\n",
    "\n",
    "\n",
    "# Create a data object that can be shared across processes.\n",
    "\n",
    "e_results_buffer = RawArray('d', T * M * N * R)\n",
    "\n",
    "# Create a Numpy array of the image for the base process.\n",
    "\n",
    "e_results = np.frombuffer(e_results_buffer).reshape(T, M, N, R)\n",
    "\n",
    "# Set the initial values of e_results to zero.\n",
    "\n",
    "e_results[:] = 0.0\n",
    "\n",
    "\n",
    "p = Pool()\n",
    "\n",
    "p.map(e_trials, range(T))\n",
    "\n"
   ]
  },
  {
   "cell_type": "code",
   "execution_count": null,
   "metadata": {},
   "outputs": [],
   "source": [
    "print(e_results)"
   ]
  },
  {
   "cell_type": "code",
   "execution_count": null,
   "metadata": {},
   "outputs": [],
   "source": []
  }
 ],
 "metadata": {
  "kernelspec": {
   "display_name": "Python 3",
   "language": "python",
   "name": "python3"
  },
  "language_info": {
   "codemirror_mode": {
    "name": "ipython",
    "version": 3
   },
   "file_extension": ".py",
   "mimetype": "text/x-python",
   "name": "python",
   "nbconvert_exporter": "python",
   "pygments_lexer": "ipython3",
   "version": "3.7.3"
  }
 },
 "nbformat": 4,
 "nbformat_minor": 4
}
