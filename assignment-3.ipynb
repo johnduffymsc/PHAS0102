{
 "cells": [
  {
   "cell_type": "markdown",
   "metadata": {},
   "source": [
    "# Techniques of High Performance Computing - Assignment 3\n",
    "\n",
    "**Name: John Duffy**\n",
    "\n",
    "**Student Number: 19154676**"
   ]
  },
  {
   "cell_type": "markdown",
   "metadata": {},
   "source": [
    "## Import Libraries Common to Question 1 & 2"
   ]
  },
  {
   "cell_type": "code",
   "execution_count": 5,
   "metadata": {},
   "outputs": [],
   "source": [
    "# Import libraries common to Questions 1 & 2.\n",
    "\n",
    "import numpy as np\n",
    "import pyopencl as cl\n",
    "\n",
    "from scipy.sparse.linalg import LinearOperator, cg\n",
    "\n",
    "#import matplotlib.pyplot as plt\n",
    "\n",
    "#from scipy.sparse import dia_matrix, csr_matrix, eye, rand\n",
    "#from scipy.sparse.linalg import LinearOperator, cg"
   ]
  },
  {
   "cell_type": "markdown",
   "metadata": {},
   "source": [
    "# Question 1\n",
    "\n",
    "## Investigating Splitting Schemes\n",
    "\n",
    "### Program Description\n",
    "\n",
    "#### Jacobi Iteration\n",
    "\n",
    "\n",
    "#### Gauss-Seidel Iteration\n",
    "\n",
    "\n",
    "### Program Structure\n",
    "\n",
    "#### Jacobi Iteration\n",
    "\n",
    "##### The init Method\n",
    "\n",
    "##### The matvec Method\n",
    "\n",
    "##### The OpenCL Kernel\n",
    "\n",
    "The OpenCL kernel takes the following as parameters:\n",
    "\n",
    "- **const int m** The number of rows of the sparse matrix\n",
    "- **const int n** The number of columns of the sparse matrix\n",
    "- **__global const double \\*data** A pointer to the sparse matrix data array stored in device global memory\n",
    "- **__global const double \\*indices** A pointer to the sparse matrix indices array stored in device global memory\n",
    "- **__global const double \\*indptr** A pointer to the sparse matrix indices pointer array stored in device global memory\n",
    "- **__global const double \\*u** A pointer to the input vector array stored in global memory\n",
    "- **__global double \\*v** A pointer to the output vector stored in global memory\n",
    "\n",
    "\n",
    "#### Gauss-Seidel Iteration\n",
    "\n",
    "\n",
    "### Performance Testing\n",
    "\n",
    "\n",
    "#### Dense Matrix\n",
    "\n",
    "\n",
    "#### Sparse Matrix\n",
    "\n"
   ]
  },
  {
   "cell_type": "markdown",
   "metadata": {},
   "source": [
    "## Class DiscreteLaplacian"
   ]
  },
  {
   "cell_type": "code",
   "execution_count": 55,
   "metadata": {},
   "outputs": [],
   "source": [
    "# Define the OpenCL kernel string used in the class DiscreteLaplacian. It is defined here outside\n",
    "# of the class for readability, and also so that it may be developed/debugged externally and\n",
    "# easily included here as part of a build system.\n",
    "\n",
    "kernel_string = \"\"\"\n",
    "\n",
    "__kernel void discrete_laplacian(const int m, __global const float *u, __global float *v)\n",
    "{\n",
    "    int x = get_global_id(0);\n",
    "    int y = get_global_id(1);\n",
    "    \n",
    "    v[m * y + x] = 3 * u[m * y + x];\n",
    "}\n",
    "\n",
    "\"\"\"\n",
    "\n",
    "\n",
    "# Define the class DiscreteLaplacian.\n",
    "\n",
    "class DiscreteLaplacian(LinearOperator):\n",
    "    \"\"\"\n",
    "    \"\"\"\n",
    "    \n",
    "    def __init__(self, m):\n",
    "        \"\"\"\n",
    "        \"\"\"\n",
    "        \n",
    "        # Store the size m as an instance variable for access by class methods.\n",
    "        \n",
    "        self._m = m\n",
    "        \n",
    "        \n",
    "        # Attributes required to be declared by LinearOperator.\n",
    "        \n",
    "        self.shape = (m * m, m * m)\n",
    "        \n",
    "        self.dytpe = np.float32\n",
    "        \n",
    "\n",
    "        # Create a GPU specific context and command queue.\n",
    "        \n",
    "        self._ctx = cl.Context(dev_type = cl.device_type.GPU)\n",
    "        \n",
    "        self._queue = cl.CommandQueue(self._ctx, properties=cl.command_queue_properties.PROFILING_ENABLE)\n",
    " \n",
    "\n",
    "        # Create input and output buffers, u and v. Note: u is READ_ONLY and v is WRITE_ONLY.\n",
    " \n",
    "        self._u = cl.Buffer(self._ctx, cl.mem_flags.READ_ONLY, size = np.dtype(np.float32).itemsize * m * m)\n",
    "        \n",
    "        self._v = cl.Buffer(self._ctx, cl.mem_flags.WRITE_ONLY, size = np.dtype(np.float32).itemsize * m * m)\n",
    "        \n",
    "\n",
    "        # Build the kernel.\n",
    "        \n",
    "        self._kernel = cl.Program(self._ctx, kernel_string).build().discrete_laplacian\n",
    "\n",
    "    \n",
    "    def _matvec(self, u):\n",
    "        \"\"\"\n",
    "        \"\"\"\n",
    "\n",
    "        # Use mapped input to efficiently copy the input vector u to the device.\n",
    "        \n",
    "        mapped_input, _ = cl.enqueue_map_buffer(self._queue, self._u, cl.map_flags.WRITE, 0, self._m * self._m, np.float32)\n",
    "        \n",
    "        with mapped_input.base:\n",
    "            mapped_input[:] = u.astype(np.float32)\n",
    "\n",
    "\n",
    "        # Run the kernel across all grid points in parallel using a global workspace m x m. \n",
    "            \n",
    "        self._kernel(self._queue, (self._m, self._m), None, np.int32(self._m), self._u, self._v)\n",
    "\n",
    "\n",
    "        # Create an output vector v and copy the output from the device.\n",
    "                     \n",
    "        v = np.zeros((self._m, self._m), dtype=np.float32)\n",
    "\n",
    "        cl.enqueue_copy(self._queue, v, self._v)\n",
    "                     \n",
    "\n",
    "        # Return v as the correct datatype.\n",
    "            \n",
    "        return v.astype(np.float32)"
   ]
  },
  {
   "cell_type": "code",
   "execution_count": 57,
   "metadata": {},
   "outputs": [
    {
     "data": {
      "text/plain": [
       "array([3., 3., 3., 3., 3., 3., 3., 3., 3., 3., 3., 3., 3., 3., 3., 3.],\n",
       "      dtype=float32)"
      ]
     },
     "execution_count": 57,
     "metadata": {},
     "output_type": "execute_result"
    }
   ],
   "source": [
    "# Test the class DiscreteLaplacian.\n",
    "\n",
    "M = 4\n",
    "\n",
    "u = np.ones((M, M), dtype=np.float32)\n",
    "\n",
    "laplacian = DiscreteLaplacian(M)\n",
    "\n",
    "laplacian * u.flatten()\n"
   ]
  },
  {
   "cell_type": "code",
   "execution_count": null,
   "metadata": {},
   "outputs": [],
   "source": []
  },
  {
   "cell_type": "markdown",
   "metadata": {},
   "source": [
    "# Question 2\n",
    "\n",
    "## Preconditioned Iterative Solvers\n",
    "\n",
    "### Program Description\n",
    "\n",
    "### Program Structure\n",
    "\n",
    "### Performance Testing\n"
   ]
  }
 ],
 "metadata": {
  "kernelspec": {
   "display_name": "Python 3",
   "language": "python",
   "name": "python3"
  },
  "language_info": {
   "codemirror_mode": {
    "name": "ipython",
    "version": 3
   },
   "file_extension": ".py",
   "mimetype": "text/x-python",
   "name": "python",
   "nbconvert_exporter": "python",
   "pygments_lexer": "ipython3",
   "version": "3.7.5"
  }
 },
 "nbformat": 4,
 "nbformat_minor": 4
}
